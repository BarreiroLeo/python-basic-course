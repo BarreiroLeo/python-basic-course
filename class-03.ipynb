{
 "cells": [
  {
   "cell_type": "markdown",
   "metadata": {
    "slideshow": {
     "slide_type": "slide"
    }
   },
   "source": [
    "## Python intro\n",
    "\n",
    "\n",
    "fisa (@fisadev, fisadev@gmail.com)\n",
    "\n",
    "https://github.com/fisadev/python-basic-course"
   ]
  },
  {
   "cell_type": "markdown",
   "metadata": {
    "slideshow": {
     "slide_type": "slide"
    }
   },
   "source": [
    "# Class 3 overview\n",
    "\n",
    "- Object orientation\n",
    "- Builtins\n",
    "- Modules, importing\n",
    "- Dates and time\n",
    "- Strings: unicode vs bytes\n",
    "- Generators\n",
    "- Comprehensions\n",
    "- Context managers\n",
    "- Higher order functions, decorators"
   ]
  },
  {
   "cell_type": "markdown",
   "metadata": {
    "slideshow": {
     "slide_type": "subslide"
    }
   },
   "source": [
    "## Object orientation\n",
    "\n",
    "- Class definition\n",
    "- Class vs instance attributes\n",
    "- `__init__`\n",
    "- Class vs instance methods\n",
    "- Inheritance, and multiple\n",
    "- Other magic methods\n",
    "- Getters and setters? propperties! but **you don't need them all the time**\n",
    "- docs"
   ]
  },
  {
   "cell_type": "code",
   "execution_count": 1,
   "metadata": {
    "scrolled": false,
    "slideshow": {
     "slide_type": "subslide"
    }
   },
   "outputs": [],
   "source": [
    "class Animal:\n",
    "    pass\n",
    "\n",
    "fisa = Animal()"
   ]
  },
  {
   "cell_type": "code",
   "execution_count": 2,
   "metadata": {
    "scrolled": false,
    "slideshow": {
     "slide_type": "fragment"
    }
   },
   "outputs": [
    {
     "name": "stdout",
     "output_type": "stream",
     "text": [
      "Juan Pedro Fisanotti 31\n"
     ]
    }
   ],
   "source": [
    "fisa.name = 'Juan Pedro Fisanotti'\n",
    "fisa.age = 31\n",
    "\n",
    "print(fisa.name, fisa.age)"
   ]
  },
  {
   "cell_type": "code",
   "execution_count": 3,
   "metadata": {
    "scrolled": false,
    "slideshow": {
     "slide_type": "subslide"
    }
   },
   "outputs": [
    {
     "name": "stdout",
     "output_type": "stream",
     "text": [
      "fisa: ['fight with swords', 'eat bricks']\n",
      "alecto: ['fight with swords', 'eat bricks']\n"
     ]
    }
   ],
   "source": [
    "# WRONGGGGGG, these are **class** attributes, not instance ones\n",
    "\n",
    "class Animal:\n",
    "    name = ''\n",
    "    skills = []\n",
    "\n",
    "fisa = Animal()\n",
    "alecto = Animal()\n",
    "\n",
    "fisa.skills.append('fight with swords')\n",
    "alecto.skills.append('eat bricks')\n",
    "print('fisa:', fisa.skills)\n",
    "print('alecto:', alecto.skills)"
   ]
  },
  {
   "cell_type": "markdown",
   "metadata": {
    "scrolled": false,
    "slideshow": {
     "slide_type": "fragment"
    }
   },
   "source": [
    "**don't do that**\n",
    "\n",
    "Don't mix class attributes with instance attributes.\n",
    "\n",
    "Instead..."
   ]
  },
  {
   "cell_type": "code",
   "execution_count": 4,
   "metadata": {
    "scrolled": false,
    "slideshow": {
     "slide_type": "subslide"
    }
   },
   "outputs": [
    {
     "name": "stdout",
     "output_type": "stream",
     "text": [
      "fisa: ['fight with swords']\n",
      "alecto: ['eat bricks']\n"
     ]
    }
   ],
   "source": [
    "class Animal:\n",
    "    def __init__(self):\n",
    "        # all instances will have this attributes as instance attributes\n",
    "        self.name = ''\n",
    "        self.skills = []\n",
    "\n",
    "fisa = Animal()\n",
    "alecto = Animal()\n",
    "\n",
    "fisa.skills.append('fight with swords')\n",
    "alecto.skills.append('eat bricks')\n",
    "print('fisa:', fisa.skills)\n",
    "print('alecto:', alecto.skills)"
   ]
  },
  {
   "cell_type": "code",
   "execution_count": 5,
   "metadata": {
    "scrolled": false,
    "slideshow": {
     "slide_type": "subslide"
    }
   },
   "outputs": [
    {
     "name": "stdout",
     "output_type": "stream",
     "text": [
      "Juan Pedro Fisanotti ['fight with swords']\n",
      "Alectobolo []\n"
     ]
    }
   ],
   "source": [
    "class Animal:\n",
    "    def __init__(self, name='', skills=None):\n",
    "        self.name = name\n",
    "        if skills is None:\n",
    "            skills = []    \n",
    "        self.skills = skills\n",
    "\n",
    "fisa = Animal('Juan Pedro Fisanotti', ['fight with swords'])\n",
    "alecto = Animal('Alectobolo')\n",
    "\n",
    "print(fisa.name, fisa.skills)\n",
    "print(alecto.name, alecto.skills)"
   ]
  },
  {
   "cell_type": "code",
   "execution_count": 6,
   "metadata": {
    "scrolled": false,
    "slideshow": {
     "slide_type": "subslide"
    }
   },
   "outputs": [
    {
     "name": "stdout",
     "output_type": "stream",
     "text": [
      "Alectobolo is walking\n",
      "<__main__.Animal object at 0x7f46752c6c50>\n"
     ]
    }
   ],
   "source": [
    "class Animal:\n",
    "    def __init__(self, name='', age=0):\n",
    "        self.name = name\n",
    "        self.age = age\n",
    "        \n",
    "    def walk(self):\n",
    "        print(self.name, 'is walking')\n",
    "        \n",
    "    @classmethod\n",
    "    def who_is_older(cls, animal1, animal2):\n",
    "        if animal1.age > animal2.age:\n",
    "            return animal1\n",
    "        else:\n",
    "            return animal2\n",
    "    \n",
    "\n",
    "fisa = Animal('Juan Pedro Fisanotti', 31)\n",
    "alecto = Animal('Alectobolo', 1.1)\n",
    "\n",
    "alecto.walk()\n",
    "\n",
    "older = Animal.who_is_older(alecto, fisa)\n",
    "print(older)"
   ]
  },
  {
   "cell_type": "code",
   "execution_count": 7,
   "metadata": {
    "scrolled": false,
    "slideshow": {
     "slide_type": "subslide"
    }
   },
   "outputs": [
    {
     "name": "stdout",
     "output_type": "stream",
     "text": [
      "An animal called Juan Pedro Fisanotti\n",
      "True\n"
     ]
    }
   ],
   "source": [
    "class Animal:\n",
    "    def __init__(self, name='', age=0):\n",
    "        self.name = name\n",
    "        self.age = age\n",
    "        \n",
    "    def walk(self):\n",
    "        print(self.name, 'is walking')\n",
    "\n",
    "    def __str__(self):\n",
    "        return 'An animal called ' + self.name\n",
    "    \n",
    "    def __gt__(self, other):\n",
    "        return self.age > other.age\n",
    "\n",
    "fisa = Animal('Juan Pedro Fisanotti', 31)\n",
    "alecto = Animal('Alectobolo', 1.1)\n",
    "\n",
    "print(fisa)\n",
    "\n",
    "print(fisa > alecto)"
   ]
  },
  {
   "cell_type": "code",
   "execution_count": 8,
   "metadata": {
    "scrolled": false,
    "slideshow": {
     "slide_type": "subslide"
    }
   },
   "outputs": [
    {
     "data": {
      "text/plain": [
       "'JUAN PEDRO FISANOTTI'"
      ]
     },
     "execution_count": 8,
     "metadata": {},
     "output_type": "execute_result"
    }
   ],
   "source": [
    "class Animal:\n",
    "    def __init__(self, name='', age=0):\n",
    "        self.set_name(name)\n",
    "        self.age = age\n",
    "            \n",
    "    def get_name(self):\n",
    "        return self._name.upper()\n",
    "        \n",
    "    def set_name(self, name):\n",
    "        self._name = name.lower()\n",
    "    \n",
    "        \n",
    "fisa = Animal()\n",
    "fisa.set_name('Juan Pedro Fisanotti')\n",
    "fisa.get_name()"
   ]
  },
  {
   "cell_type": "code",
   "execution_count": 9,
   "metadata": {
    "scrolled": false,
    "slideshow": {
     "slide_type": "fragment"
    }
   },
   "outputs": [
    {
     "data": {
      "text/plain": [
       "'juan pedro fisanotti'"
      ]
     },
     "execution_count": 9,
     "metadata": {},
     "output_type": "execute_result"
    }
   ],
   "source": [
    "fisa._name"
   ]
  },
  {
   "cell_type": "markdown",
   "metadata": {
    "scrolled": false,
    "slideshow": {
     "slide_type": "fragment"
    }
   },
   "source": [
    "**don't do that**\n",
    "\n",
    "Instead..."
   ]
  },
  {
   "cell_type": "code",
   "execution_count": 10,
   "metadata": {
    "scrolled": false,
    "slideshow": {
     "slide_type": "subslide"
    }
   },
   "outputs": [
    {
     "data": {
      "text/plain": [
       "'JUAN PEDRO FISANOTTI'"
      ]
     },
     "execution_count": 10,
     "metadata": {},
     "output_type": "execute_result"
    }
   ],
   "source": [
    "class Animal:\n",
    "    def __init__(self, name='', age=0):\n",
    "        self.name = name\n",
    "        self.age = age\n",
    "    \n",
    "    @property\n",
    "    def name(self):\n",
    "        return self._name.upper()\n",
    "    \n",
    "    @name.setter\n",
    "    def name(self, name):\n",
    "        self._name = name.lower()\n",
    "\n",
    "fisa = Animal()\n",
    "fisa.name = 'Juan Pedro Fisanotti'\n",
    "fisa.name"
   ]
  },
  {
   "cell_type": "code",
   "execution_count": 11,
   "metadata": {
    "scrolled": false,
    "slideshow": {
     "slide_type": "fragment"
    }
   },
   "outputs": [
    {
     "data": {
      "text/plain": [
       "'juan pedro fisanotti'"
      ]
     },
     "execution_count": 11,
     "metadata": {},
     "output_type": "execute_result"
    }
   ],
   "source": [
    "fisa._name"
   ]
  },
  {
   "cell_type": "markdown",
   "metadata": {
    "scrolled": false,
    "slideshow": {
     "slide_type": "fragment"
    }
   },
   "source": [
    "This way normal attributes and getter/setter attributes behave just the same way from \"outside\", so you can change them to be one or the other without having to update all the places where you use them."
   ]
  },
  {
   "cell_type": "code",
   "execution_count": 12,
   "metadata": {
    "scrolled": false,
    "slideshow": {
     "slide_type": "subslide"
    }
   },
   "outputs": [
    {
     "name": "stdout",
     "output_type": "stream",
     "text": [
      "Help on class Animal in module __main__:\n",
      "\n",
      "class Animal(builtins.object)\n",
      " |  An animal, which has a name and an age.\n",
      " |  \n",
      " |  Methods defined here:\n",
      " |  \n",
      " |  __gt__(self, other)\n",
      " |      Animal comparison is defined as animal.age comparison.\n",
      " |  \n",
      " |  __init__(self, name='', age=0)\n",
      " |      Initialize self.  See help(type(self)) for accurate signature.\n",
      " |  \n",
      " |  __str__(self)\n",
      " |      Return string representation.\n",
      " |  \n",
      " |  walk(self)\n",
      " |      Makes the animal walk. Returns nothing.\n",
      " |  \n",
      " |  ----------------------------------------------------------------------\n",
      " |  Data descriptors defined here:\n",
      " |  \n",
      " |  __dict__\n",
      " |      dictionary for instance variables (if defined)\n",
      " |  \n",
      " |  __weakref__\n",
      " |      list of weak references to the object (if defined)\n",
      "\n"
     ]
    }
   ],
   "source": [
    "class Animal:\n",
    "    \"\"\"\n",
    "    An animal, which has a name and an age.\n",
    "    \"\"\"\n",
    "    def __init__(self, name='', age=0):\n",
    "        self.name = name\n",
    "        self.age = age\n",
    "        \n",
    "    def walk(self):\n",
    "        \"\"\"\n",
    "        Makes the animal walk. Returns nothing.\n",
    "        \"\"\"\n",
    "        print(self.name, 'is walking')\n",
    "\n",
    "    def __str__(self):\n",
    "        \"\"\"\n",
    "        Return string representation.\n",
    "        \"\"\"\n",
    "        return 'Animal(' + self.name + ')'\n",
    "    \n",
    "    def __gt__(self, other):\n",
    "        \"\"\"\n",
    "        Animal comparison is defined as animal.age comparison.\n",
    "        \"\"\"\n",
    "        return self.age > other.age\n",
    "\n",
    "help(Animal)"
   ]
  },
  {
   "cell_type": "markdown",
   "metadata": {
    "slideshow": {
     "slide_type": "subslide"
    }
   },
   "source": [
    "## Builtins\n",
    "\n",
    "Useful functions that are already there, ready to be used."
   ]
  },
  {
   "cell_type": "code",
   "execution_count": 13,
   "metadata": {
    "scrolled": false,
    "slideshow": {
     "slide_type": "subslide"
    }
   },
   "outputs": [
    {
     "data": {
      "text/plain": [
       "5"
      ]
     },
     "execution_count": 13,
     "metadata": {},
     "output_type": "execute_result"
    }
   ],
   "source": [
    "len('hello')"
   ]
  },
  {
   "cell_type": "code",
   "execution_count": 14,
   "metadata": {
    "scrolled": false,
    "slideshow": {
     "slide_type": "fragment"
    }
   },
   "outputs": [
    {
     "data": {
      "text/plain": [
       "(323, 1, 390)"
      ]
     },
     "execution_count": 14,
     "metadata": {},
     "output_type": "execute_result"
    }
   ],
   "source": [
    "numbers = [1, 323, 45, 21]\n",
    "\n",
    "max(numbers), min(numbers), sum(numbers)"
   ]
  },
  {
   "cell_type": "code",
   "execution_count": 15,
   "metadata": {
    "scrolled": false,
    "slideshow": {
     "slide_type": "fragment"
    }
   },
   "outputs": [
    {
     "name": "stdout",
     "output_type": "stream",
     "text": [
      "there are 1 houses\n",
      "there are 323 people\n",
      "there are 45 cars\n",
      "there are 21 schools\n"
     ]
    }
   ],
   "source": [
    "numbers = [1, 323, 45, 21]\n",
    "things = ['houses', 'people', 'cars', 'schools']\n",
    "\n",
    "for thing, quantity in zip(things, numbers):\n",
    "    print('there are', quantity, thing)"
   ]
  },
  {
   "cell_type": "code",
   "execution_count": 16,
   "metadata": {
    "scrolled": false,
    "slideshow": {
     "slide_type": "fragment"
    }
   },
   "outputs": [
    {
     "data": {
      "text/plain": [
       "[11, 333, 55, 31]"
      ]
     },
     "execution_count": 16,
     "metadata": {},
     "output_type": "execute_result"
    }
   ],
   "source": [
    "numbers = [1, 323, 45, 21]\n",
    "\n",
    "for x in map(lambda x: x + 10, numbers):\n",
    "    print(x)"
   ]
  },
  {
   "cell_type": "code",
   "execution_count": 17,
   "metadata": {
    "scrolled": false,
    "slideshow": {
     "slide_type": "fragment"
    }
   },
   "outputs": [
    {
     "data": {
      "text/plain": [
       "[10, 45, 15]"
      ]
     },
     "execution_count": 17,
     "metadata": {},
     "output_type": "execute_result"
    }
   ],
   "source": [
    "numbers = [10, 323, 45, 21, 15]\n",
    "\n",
    "def divisible_by_5(x):\n",
    "    return str(x)[-1] in '05'\n",
    "\n",
    "\n",
    "list(filter(divisible_by_5, numbers))"
   ]
  },
  {
   "cell_type": "markdown",
   "metadata": {
    "slideshow": {
     "slide_type": "subslide"
    }
   },
   "source": [
    "\n",
    "## Modules, importing stuff\n",
    "\n",
    "\n",
    "- Module idea\n",
    "- Import syntax\n",
    "- Importing specific stuff, and `*`\n",
    "- Where are modules found?\n",
    "- Making packages, `__init__.py`\n",
    "- Distribution? Installation?\n",
    "- Understanding execution at import time"
   ]
  },
  {
   "cell_type": "code",
   "execution_count": 18,
   "metadata": {
    "slideshow": {
     "slide_type": "subslide"
    }
   },
   "outputs": [
    {
     "data": {
      "text/plain": [
       "10"
      ]
     },
     "execution_count": 18,
     "metadata": {},
     "output_type": "execute_result"
    }
   ],
   "source": [
    "import random\n",
    "\n",
    "random.randint(0, 10)"
   ]
  },
  {
   "cell_type": "code",
   "execution_count": 19,
   "metadata": {
    "slideshow": {
     "slide_type": "subslide"
    }
   },
   "outputs": [
    {
     "data": {
      "text/plain": [
       "3"
      ]
     },
     "execution_count": 19,
     "metadata": {},
     "output_type": "execute_result"
    }
   ],
   "source": [
    "from random import randint\n",
    "\n",
    "randint(0, 10)"
   ]
  },
  {
   "cell_type": "code",
   "execution_count": 20,
   "metadata": {
    "slideshow": {
     "slide_type": "fragment"
    }
   },
   "outputs": [
    {
     "name": "stdout",
     "output_type": "stream",
     "text": [
      "3\n",
      "cara\n"
     ]
    }
   ],
   "source": [
    "from random import randint, choice\n",
    "\n",
    "print(randint(0, 10))\n",
    "print(choice(['cara', 'cruz']))"
   ]
  },
  {
   "cell_type": "code",
   "execution_count": 21,
   "metadata": {
    "slideshow": {
     "slide_type": "fragment"
    }
   },
   "outputs": [
    {
     "name": "stdout",
     "output_type": "stream",
     "text": [
      "10\n",
      "cruz\n"
     ]
    }
   ],
   "source": [
    "# not recommended!\n",
    "\n",
    "from random import *\n",
    "\n",
    "print(randint(0, 10))\n",
    "print(choice(['cara', 'cruz']))"
   ]
  },
  {
   "cell_type": "markdown",
   "metadata": {
    "slideshow": {
     "slide_type": "subslide"
    }
   },
   "source": [
    "Where are the modules?\n",
    "\n",
    "- `sys.path`\n",
    "- current dir"
   ]
  },
  {
   "cell_type": "code",
   "execution_count": 22,
   "metadata": {
    "slideshow": {
     "slide_type": "fragment"
    }
   },
   "outputs": [
    {
     "data": {
      "text/plain": [
       "['',\n",
       " '/usr/lib/python36.zip',\n",
       " '/usr/lib/python3.6',\n",
       " '/usr/lib/python3.6/lib-dynload',\n",
       " '/home/fisa/venvs/ds/lib/python3.6/site-packages',\n",
       " '/home/fisa/venvs/ds/lib/python3.6/site-packages/IPython/extensions',\n",
       " '/home/fisa/.ipython']"
      ]
     },
     "execution_count": 22,
     "metadata": {},
     "output_type": "execute_result"
    }
   ],
   "source": [
    "import sys\n",
    "\n",
    "sys.path"
   ]
  },
  {
   "cell_type": "markdown",
   "metadata": {
    "slideshow": {
     "slide_type": "fragment"
    }
   },
   "source": [
    "Usually it's **not** a good idea to modify `sys.path` by hand. Make your libs installable, install them and they will go to dirs that are in `sys.path`."
   ]
  },
  {
   "cell_type": "markdown",
   "metadata": {
    "slideshow": {
     "slide_type": "fragment"
    }
   },
   "source": [
    "How to make installable libs? Another chapter :)"
   ]
  },
  {
   "cell_type": "markdown",
   "metadata": {
    "slideshow": {
     "slide_type": "subslide"
    }
   },
   "source": [
    "Execution at import time: can't be explained from a notebook. Let's go to the editor!"
   ]
  },
  {
   "cell_type": "markdown",
   "metadata": {
    "slideshow": {
     "slide_type": "subslide"
    }
   },
   "source": [
    "## Dates and time\n",
    "\n",
    "- datetime, date, timedelta\n",
    "- Operations: `+`, `-`, `*`, `/`, comparisons\n",
    "- Timezones\n",
    "- To and from strings\n",
    "- Extra libs"
   ]
  },
  {
   "cell_type": "code",
   "execution_count": 23,
   "metadata": {
    "slideshow": {
     "slide_type": "subslide"
    }
   },
   "outputs": [
    {
     "data": {
      "text/plain": [
       "datetime.date(2018, 12, 14)"
      ]
     },
     "execution_count": 23,
     "metadata": {},
     "output_type": "execute_result"
    }
   ],
   "source": [
    "from datetime import datetime, date, timedelta\n",
    "\n",
    "today = date(2018, 12, 14)\n",
    "\n",
    "today"
   ]
  },
  {
   "cell_type": "code",
   "execution_count": 24,
   "metadata": {
    "slideshow": {
     "slide_type": "fragment"
    }
   },
   "outputs": [
    {
     "data": {
      "text/plain": [
       "datetime.datetime(2018, 12, 14, 19, 15, 56)"
      ]
     },
     "execution_count": 24,
     "metadata": {},
     "output_type": "execute_result"
    }
   ],
   "source": [
    "# 2018/12/14 19:15:56\n",
    "right_now = datetime(2018, 12, 14, 19, 15, 56)\n",
    "\n",
    "right_now"
   ]
  },
  {
   "cell_type": "code",
   "execution_count": 25,
   "metadata": {
    "slideshow": {
     "slide_type": "fragment"
    }
   },
   "outputs": [
    {
     "data": {
      "text/plain": [
       "(datetime.datetime(2018, 12, 14, 17, 21, 22, 625705),\n",
       " datetime.date(2018, 12, 14))"
      ]
     },
     "execution_count": 25,
     "metadata": {},
     "output_type": "execute_result"
    }
   ],
   "source": [
    "right_now = datetime.now()\n",
    "today = right_now.date()\n",
    "\n",
    "right_now, today"
   ]
  },
  {
   "cell_type": "code",
   "execution_count": 26,
   "metadata": {
    "slideshow": {
     "slide_type": "fragment"
    }
   },
   "outputs": [
    {
     "data": {
      "text/plain": [
       "(datetime.timedelta(365), datetime.timedelta(0, 2))"
      ]
     },
     "execution_count": 26,
     "metadata": {},
     "output_type": "execute_result"
    }
   ],
   "source": [
    "one_year = timedelta(days=365)\n",
    "an_instant = timedelta(seconds=2)\n",
    "\n",
    "one_year, an_instant"
   ]
  },
  {
   "cell_type": "code",
   "execution_count": 27,
   "metadata": {
    "slideshow": {
     "slide_type": "subslide"
    }
   },
   "outputs": [
    {
     "data": {
      "text/plain": [
       "datetime.date(2019, 12, 14)"
      ]
     },
     "execution_count": 27,
     "metadata": {},
     "output_type": "execute_result"
    }
   ],
   "source": [
    "today + one_year"
   ]
  },
  {
   "cell_type": "code",
   "execution_count": 28,
   "metadata": {
    "slideshow": {
     "slide_type": "fragment"
    }
   },
   "outputs": [
    {
     "data": {
      "text/plain": [
       "datetime.datetime(2018, 12, 14, 17, 21, 20, 625705)"
      ]
     },
     "execution_count": 28,
     "metadata": {},
     "output_type": "execute_result"
    }
   ],
   "source": [
    "right_now - an_instant"
   ]
  },
  {
   "cell_type": "code",
   "execution_count": 29,
   "metadata": {
    "slideshow": {
     "slide_type": "fragment"
    }
   },
   "outputs": [
    {
     "data": {
      "text/plain": [
       "datetime.date(2018, 12, 14)"
      ]
     },
     "execution_count": 29,
     "metadata": {},
     "output_type": "execute_result"
    }
   ],
   "source": [
    "today + an_instant"
   ]
  },
  {
   "cell_type": "code",
   "execution_count": 30,
   "metadata": {
    "slideshow": {
     "slide_type": "fragment"
    }
   },
   "outputs": [
    {
     "data": {
      "text/plain": [
       "datetime.date(2019, 1, 6)"
      ]
     },
     "execution_count": 30,
     "metadata": {},
     "output_type": "execute_result"
    }
   ],
   "source": [
    "today + an_instant * 1000000"
   ]
  },
  {
   "cell_type": "code",
   "execution_count": 31,
   "metadata": {
    "slideshow": {
     "slide_type": "fragment"
    }
   },
   "outputs": [
    {
     "data": {
      "text/plain": [
       "datetime.timedelta(18, 21600)"
      ]
     },
     "execution_count": 31,
     "metadata": {},
     "output_type": "execute_result"
    }
   ],
   "source": [
    "one_year / 20"
   ]
  },
  {
   "cell_type": "code",
   "execution_count": 32,
   "metadata": {
    "slideshow": {
     "slide_type": "fragment"
    }
   },
   "outputs": [
    {
     "data": {
      "text/plain": [
       "1576800.0"
      ]
     },
     "execution_count": 32,
     "metadata": {},
     "output_type": "execute_result"
    }
   ],
   "source": [
    "period = one_year / 20\n",
    "\n",
    "period.total_seconds()"
   ]
  },
  {
   "cell_type": "code",
   "execution_count": 33,
   "metadata": {
    "slideshow": {
     "slide_type": "subslide"
    }
   },
   "outputs": [
    {
     "data": {
      "text/plain": [
       "False"
      ]
     },
     "execution_count": 33,
     "metadata": {},
     "output_type": "execute_result"
    }
   ],
   "source": [
    "one_year < an_instant"
   ]
  },
  {
   "cell_type": "code",
   "execution_count": 34,
   "metadata": {
    "slideshow": {
     "slide_type": "fragment"
    }
   },
   "outputs": [
    {
     "data": {
      "text/plain": [
       "True"
      ]
     },
     "execution_count": 34,
     "metadata": {},
     "output_type": "execute_result"
    }
   ],
   "source": [
    "(right_now + one_year) > right_now"
   ]
  },
  {
   "cell_type": "code",
   "execution_count": 35,
   "metadata": {
    "slideshow": {
     "slide_type": "subslide"
    }
   },
   "outputs": [
    {
     "data": {
      "text/plain": [
       "(datetime.datetime(2019, 1, 1, 0, 0, tzinfo=<UTC>),\n",
       " datetime.datetime(2019, 1, 1, 0, 0, tzinfo=<DstTzInfo 'America/Argentina/Buenos_Aires' LMT-1 day, 20:06:00 STD>))"
      ]
     },
     "execution_count": 35,
     "metadata": {},
     "output_type": "execute_result"
    }
   ],
   "source": [
    "import pytz\n",
    "\n",
    "arg = pytz.timezone('America/Argentina/Buenos_Aires')\n",
    "\n",
    "new_year_at_london = datetime(2019, 1, 1, 0, 0, 0, tzinfo=pytz.UTC)\n",
    "new_year_at_rafaela = datetime(2019, 1, 1, 0, 0, 0, tzinfo=arg)\n",
    "\n",
    "new_year_at_london, new_year_at_rafaela"
   ]
  },
  {
   "cell_type": "code",
   "execution_count": 36,
   "metadata": {
    "slideshow": {
     "slide_type": "fragment"
    }
   },
   "outputs": [
    {
     "data": {
      "text/plain": [
       "True"
      ]
     },
     "execution_count": 36,
     "metadata": {},
     "output_type": "execute_result"
    }
   ],
   "source": [
    "new_year_at_london < new_year_at_rafaela"
   ]
  },
  {
   "cell_type": "code",
   "execution_count": 37,
   "metadata": {
    "slideshow": {
     "slide_type": "fragment"
    }
   },
   "outputs": [
    {
     "data": {
      "text/plain": [
       "datetime.datetime(2018, 12, 31, 21, 0, tzinfo=<DstTzInfo 'America/Argentina/Buenos_Aires' -03-1 day, 21:00:00 STD>)"
      ]
     },
     "execution_count": 37,
     "metadata": {},
     "output_type": "execute_result"
    }
   ],
   "source": [
    "new_year_at_london.astimezone(arg)"
   ]
  },
  {
   "cell_type": "code",
   "execution_count": 38,
   "metadata": {
    "slideshow": {
     "slide_type": "subslide"
    }
   },
   "outputs": [
    {
     "data": {
      "text/plain": [
       "'14 of December, 2018, at 17:21'"
      ]
     },
     "execution_count": 38,
     "metadata": {},
     "output_type": "execute_result"
    }
   ],
   "source": [
    "right_now.strftime(\"%d of %B, %Y, at %H:%M\")"
   ]
  },
  {
   "cell_type": "code",
   "execution_count": 39,
   "metadata": {
    "slideshow": {
     "slide_type": "fragment"
    }
   },
   "outputs": [
    {
     "data": {
      "text/plain": [
       "datetime.datetime(1987, 11, 1, 15, 20)"
      ]
     },
     "execution_count": 39,
     "metadata": {},
     "output_type": "execute_result"
    }
   ],
   "source": [
    "datetime.strptime(\"1 of November, 1987, at 15:20\", \"%d of %B, %Y, at %H:%M\")"
   ]
  },
  {
   "cell_type": "markdown",
   "metadata": {
    "slideshow": {
     "slide_type": "fragment"
    }
   },
   "source": [
    "**Reference**: http://strftime.org/"
   ]
  },
  {
   "cell_type": "markdown",
   "metadata": {
    "slideshow": {
     "slide_type": "subslide"
    }
   },
   "source": [
    "Extras:\n",
    "\n",
    "- Arrow https://arrow.readthedocs.io/en/latest/ : nicer syntax, useful extra stuff like `.humanize()` (returns stuff like \"an hour ago\", etc)\n",
    "- Dateutil and rrule: repetitions, periodicity, more complex calculations"
   ]
  },
  {
   "cell_type": "markdown",
   "metadata": {
    "slideshow": {
     "slide_type": "subslide"
    }
   },
   "source": [
    "## Strings vs bytes in Python2\n",
    "\n",
    "- What's an encoding\n",
    "- What are bytes in python2?\n",
    "- What are unicodes in python2?\n",
    "- What are strings in python2?: bytes\n",
    "- How/When should I use them?"
   ]
  },
  {
   "cell_type": "markdown",
   "metadata": {
    "slideshow": {
     "slide_type": "fragment"
    }
   },
   "source": [
    "Can't use the notebook :( (python3)"
   ]
  },
  {
   "cell_type": "markdown",
   "metadata": {
    "slideshow": {
     "slide_type": "fragment"
    }
   },
   "source": [
    "**Remember**: inputs and outputs will be bytes, and inside your program you should use unicodes.\n",
    "\n",
    "```python\n",
    "# read from a file, database, network, etc\n",
    "incoming_data = 'some bytes'\n",
    "\n",
    "data = incoming_data.decode('utf-8')\n",
    "data = data.upper() + u\"áéï\"\n",
    "\n",
    "# write to a file, database, network, etc\n",
    "outgoing_data = data.encode('cp1252')\n",
    "```"
   ]
  },
  {
   "cell_type": "markdown",
   "metadata": {
    "slideshow": {
     "slide_type": "subslide"
    }
   },
   "source": [
    "Special case: code encoding.\n",
    "\n",
    "Always add this as the first line of your files in python2:\n",
    "```\n",
    "# coding: utf-8\n",
    "```\n",
    "\n",
    "And use an editor which saves them as utf-8 files! Most of them do :)"
   ]
  },
  {
   "cell_type": "markdown",
   "metadata": {
    "slideshow": {
     "slide_type": "subslide"
    }
   },
   "source": [
    "## Strings vs bytes in Python3\n",
    "\n",
    "- One small huge difference: strings in python3 are unicodes, not bytes\n",
    "- All the rest stays the same"
   ]
  },
  {
   "cell_type": "markdown",
   "metadata": {
    "slideshow": {
     "slide_type": "subslide"
    }
   },
   "source": [
    "## Generators\n",
    "\n",
    "(In their most basic form, not async, etc)\n",
    "\n",
    "Iterate over stuff, without having all that stuff in memory!"
   ]
  },
  {
   "cell_type": "code",
   "execution_count": 40,
   "metadata": {
    "slideshow": {
     "slide_type": "fragment"
    }
   },
   "outputs": [],
   "source": [
    "def tasks_to_do():\n",
    "    yield 'walk'\n",
    "    yield 'jump'\n",
    "    \n",
    "    while randint(0, 100) < 80:\n",
    "        yield 'fly'"
   ]
  },
  {
   "cell_type": "code",
   "execution_count": 41,
   "metadata": {
    "slideshow": {
     "slide_type": "fragment"
    }
   },
   "outputs": [
    {
     "data": {
      "text/plain": [
       "<generator object tasks_to_do at 0x7f643c0fdd00>"
      ]
     },
     "execution_count": 41,
     "metadata": {},
     "output_type": "execute_result"
    }
   ],
   "source": [
    "tasks_to_do()"
   ]
  },
  {
   "cell_type": "code",
   "execution_count": 42,
   "metadata": {
    "slideshow": {
     "slide_type": "fragment"
    }
   },
   "outputs": [
    {
     "name": "stdout",
     "output_type": "stream",
     "text": [
      "walk\n",
      "jump\n",
      "fly\n",
      "fly\n",
      "fly\n",
      "fly\n"
     ]
    }
   ],
   "source": [
    "for x in tasks_to_do():\n",
    "    print(x)"
   ]
  },
  {
   "cell_type": "code",
   "execution_count": 43,
   "metadata": {
    "slideshow": {
     "slide_type": "fragment"
    }
   },
   "outputs": [
    {
     "data": {
      "text/plain": [
       "['walk', 'jump', 'fly', 'fly', 'fly', 'fly', 'fly']"
      ]
     },
     "execution_count": 43,
     "metadata": {},
     "output_type": "execute_result"
    }
   ],
   "source": [
    "list(tasks_to_do())"
   ]
  },
  {
   "cell_type": "code",
   "execution_count": 44,
   "metadata": {
    "slideshow": {
     "slide_type": "subslide"
    }
   },
   "outputs": [
    {
     "data": {
      "text/plain": [
       "range(0, 10)"
      ]
     },
     "execution_count": 44,
     "metadata": {},
     "output_type": "execute_result"
    }
   ],
   "source": [
    "range(10)"
   ]
  },
  {
   "cell_type": "code",
   "execution_count": 45,
   "metadata": {
    "slideshow": {
     "slide_type": "fragment"
    }
   },
   "outputs": [
    {
     "data": {
      "text/plain": [
       "[0, 1, 2, 3, 4, 5, 6, 7, 8, 9]"
      ]
     },
     "execution_count": 45,
     "metadata": {},
     "output_type": "execute_result"
    }
   ],
   "source": [
    "list(range(10))"
   ]
  },
  {
   "cell_type": "markdown",
   "metadata": {
    "slideshow": {
     "slide_type": "fragment"
    }
   },
   "source": [
    "In python2: `xrange` is a generator, `range` returns a list. Many stuff that returned lists in py2, are now generators in py3."
   ]
  },
  {
   "cell_type": "markdown",
   "metadata": {
    "slideshow": {
     "slide_type": "subslide"
    }
   },
   "source": [
    "## Comprehensions\n",
    "\n",
    "A nicer way of creating list, tuples, dicts, from any iterable data."
   ]
  },
  {
   "cell_type": "code",
   "execution_count": 46,
   "metadata": {
    "slideshow": {
     "slide_type": "subslide"
    }
   },
   "outputs": [
    {
     "data": {
      "text/plain": [
       "['FISA', 'SWORD', 'SCIENCE']"
      ]
     },
     "execution_count": 46,
     "metadata": {},
     "output_type": "execute_result"
    }
   ],
   "source": [
    "words = ['fisa', 'python', 'alectobolo', 'sword', 'science']\n",
    "\n",
    "favorite_words = [word.upper() for word in words if 's' in word]\n",
    "\n",
    "favorite_words"
   ]
  },
  {
   "cell_type": "code",
   "execution_count": 47,
   "metadata": {
    "slideshow": {
     "slide_type": "fragment"
    }
   },
   "outputs": [
    {
     "data": {
      "text/plain": [
       "['FISA', 'SWORD', 'SCIENCE']"
      ]
     },
     "execution_count": 47,
     "metadata": {},
     "output_type": "execute_result"
    }
   ],
   "source": [
    "# equivalent:\n",
    "\n",
    "favorite_words = []\n",
    "\n",
    "for word in words:\n",
    "    if 's' in word:\n",
    "        favorite_words.append(word.upper())\n",
    "\n",
    "favorite_words"
   ]
  },
  {
   "cell_type": "code",
   "execution_count": 48,
   "metadata": {
    "slideshow": {
     "slide_type": "fragment"
    }
   },
   "outputs": [
    {
     "data": {
      "text/plain": [
       "['FISA', 'SWORD', 'SCIENCE']"
      ]
     },
     "execution_count": 48,
     "metadata": {},
     "output_type": "execute_result"
    }
   ],
   "source": [
    "[word.upper() \n",
    " for word in words \n",
    " if 's' in word]"
   ]
  },
  {
   "cell_type": "code",
   "execution_count": 49,
   "metadata": {
    "slideshow": {
     "slide_type": "subslide"
    }
   },
   "outputs": [
    {
     "data": {
      "text/plain": [
       "<generator object <genexpr> at 0x7f643c131f68>"
      ]
     },
     "execution_count": 49,
     "metadata": {},
     "output_type": "execute_result"
    }
   ],
   "source": [
    "(word.upper() \n",
    " for word in words \n",
    " if 's' in word)"
   ]
  },
  {
   "cell_type": "code",
   "execution_count": 50,
   "metadata": {
    "slideshow": {
     "slide_type": "subslide"
    }
   },
   "outputs": [
    {
     "data": {
      "text/plain": [
       "['FISAFISAFISA',\n",
       " 'FISAFISAFISAFISA',\n",
       " 'FISAFISAFISAFISAFISA',\n",
       " 'SWORDSWORDSWORD',\n",
       " 'SWORDSWORDSWORDSWORD',\n",
       " 'SWORDSWORDSWORDSWORDSWORD',\n",
       " 'SCIENCESCIENCESCIENCE',\n",
       " 'SCIENCESCIENCESCIENCESCIENCE',\n",
       " 'SCIENCESCIENCESCIENCESCIENCESCIENCE']"
      ]
     },
     "execution_count": 50,
     "metadata": {},
     "output_type": "execute_result"
    }
   ],
   "source": [
    "words = ['fisa', 'python', 'alectobolo', 'sword', 'science']\n",
    "numbers = [3, 4, 5]\n",
    "\n",
    "[word.upper() * number\n",
    " for word in words \n",
    " for number in numbers\n",
    " if 's' in word]"
   ]
  },
  {
   "cell_type": "code",
   "execution_count": 51,
   "metadata": {
    "slideshow": {
     "slide_type": "subslide"
    }
   },
   "outputs": [
    {
     "data": {
      "text/plain": [
       "{'fisa': 4, 'sword': 5, 'science': 7}"
      ]
     },
     "execution_count": 51,
     "metadata": {},
     "output_type": "execute_result"
    }
   ],
   "source": [
    "words = ['fisa', 'python', 'alectobolo', 'sword', 'science']\n",
    "\n",
    "{word: len(word)\n",
    " for word in words \n",
    " if 's' in word}"
   ]
  },
  {
   "cell_type": "markdown",
   "metadata": {
    "slideshow": {
     "slide_type": "subslide"
    }
   },
   "source": [
    "## Context managers\n",
    "\n",
    "Nice way of using things that have a setup/teardown pattern (example: open/close file, start/finish database transaction, etc).\n",
    "\n",
    "Mainly reduces code repetition, produces cleaner code."
   ]
  },
  {
   "cell_type": "code",
   "execution_count": 52,
   "metadata": {
    "slideshow": {
     "slide_type": "fragment"
    }
   },
   "outputs": [],
   "source": [
    "with open('a_file.txt', 'w') as my_file:\n",
    "    my_file.write('hello')"
   ]
  },
  {
   "cell_type": "code",
   "execution_count": 53,
   "metadata": {
    "slideshow": {
     "slide_type": "fragment"
    }
   },
   "outputs": [],
   "source": [
    "# if I hadn't context managers:\n",
    "\n",
    "my_file = open('a_file.txt', 'w')\n",
    "my_file.write('hello')\n",
    "my_file.close()"
   ]
  },
  {
   "cell_type": "code",
   "execution_count": 54,
   "metadata": {
    "slideshow": {
     "slide_type": "subslide"
    }
   },
   "outputs": [
    {
     "name": "stdout",
     "output_type": "stream",
     "text": [
      "-> Starting the db transaction\n",
      "  Adding data to the database\n",
      "<- Finishing the db transaction\n",
      "\n",
      "Doing some other normal stuff\n",
      "\n",
      "-> Starting the db transaction\n",
      "  Another stuff in the database\n",
      "<- Finishing the db transaction\n"
     ]
    }
   ],
   "source": [
    "from contextlib import contextmanager\n",
    "\n",
    "@contextmanager\n",
    "def inside_db_transaction():\n",
    "    print('-> Starting the db transaction')\n",
    "    yield\n",
    "    print('<- Finishing the db transaction')\n",
    "\n",
    "    \n",
    "with inside_db_transaction():\n",
    "    print('  Adding data to the database')\n",
    "    \n",
    "print()\n",
    "print(\"Doing some other normal stuff\")\n",
    "print()\n",
    "    \n",
    "with inside_db_transaction():\n",
    "    print('  Another stuff in the database')"
   ]
  },
  {
   "cell_type": "code",
   "execution_count": 55,
   "metadata": {
    "slideshow": {
     "slide_type": "subslide"
    }
   },
   "outputs": [
    {
     "name": "stdout",
     "output_type": "stream",
     "text": [
      "-> Starting the db transaction\n",
      "  Adding data to the database: hello\n",
      "<- Finishing the db transaction\n"
     ]
    }
   ],
   "source": [
    "with inside_db_transaction():\n",
    "    with open('a_file.txt') as my_file:\n",
    "        data = my_file.read()\n",
    "        print('  Adding data to the database:', data)"
   ]
  },
  {
   "cell_type": "code",
   "execution_count": 56,
   "metadata": {
    "scrolled": true,
    "slideshow": {
     "slide_type": "fragment"
    }
   },
   "outputs": [
    {
     "name": "stdout",
     "output_type": "stream",
     "text": [
      "-> Starting the db transaction\n",
      "  Adding data to the database: hello\n",
      "<- Finishing the db transaction\n"
     ]
    }
   ],
   "source": [
    "# equivalent, nicer\n",
    "\n",
    "with inside_db_transaction(), open('a_file.txt') as my_file:\n",
    "    data = my_file.read()\n",
    "    print('  Adding data to the database:', data)"
   ]
  },
  {
   "cell_type": "markdown",
   "metadata": {
    "slideshow": {
     "slide_type": "subslide"
    }
   },
   "source": [
    "## Higher order functions, decorators\n",
    "\n",
    "- Remember: everything in python is an object. Everything.\n",
    "- A function is just another object. And a variable can point to a function. In fact, you always create a variable pointing to your functions :)\n",
    "- So functions can be passed around\n",
    "- Decorators: nicer way of adding logic to existing code"
   ]
  },
  {
   "cell_type": "code",
   "execution_count": 57,
   "metadata": {
    "slideshow": {
     "slide_type": "subslide"
    }
   },
   "outputs": [
    {
     "data": {
      "text/plain": [
       "<function __main__.add_ten(x)>"
      ]
     },
     "execution_count": 57,
     "metadata": {},
     "output_type": "execute_result"
    }
   ],
   "source": [
    "def add_ten(x):\n",
    "    \"\"\"\n",
    "    Adds ten\n",
    "    \"\"\"\n",
    "    return x + 10\n",
    "\n",
    "add_ten"
   ]
  },
  {
   "cell_type": "code",
   "execution_count": 58,
   "metadata": {
    "slideshow": {
     "slide_type": "fragment"
    }
   },
   "outputs": [
    {
     "data": {
      "text/plain": [
       "'add_ten'"
      ]
     },
     "execution_count": 58,
     "metadata": {},
     "output_type": "execute_result"
    }
   ],
   "source": [
    "add_ten.__name__"
   ]
  },
  {
   "cell_type": "code",
   "execution_count": 59,
   "metadata": {
    "slideshow": {
     "slide_type": "fragment"
    }
   },
   "outputs": [
    {
     "name": "stdout",
     "output_type": "stream",
     "text": [
      "\n",
      "    Adds ten\n",
      "    \n"
     ]
    }
   ],
   "source": [
    "print(add_ten.__doc__)"
   ]
  },
  {
   "cell_type": "markdown",
   "metadata": {
    "slideshow": {
     "slide_type": "fragment"
    }
   },
   "source": [
    "This could be thought as...\n",
    "\n",
    "```python\n",
    "add_ten = # a new function object with that code inside\n",
    "```"
   ]
  },
  {
   "cell_type": "code",
   "execution_count": 60,
   "metadata": {
    "slideshow": {
     "slide_type": "fragment"
    }
   },
   "outputs": [],
   "source": [
    "# we saw that before!\n",
    "\n",
    "add_ten = lambda x: x + 10"
   ]
  },
  {
   "cell_type": "code",
   "execution_count": 61,
   "metadata": {
    "slideshow": {
     "slide_type": "subslide"
    }
   },
   "outputs": [
    {
     "data": {
      "text/plain": [
       "<function __main__.add_ten(x)>"
      ]
     },
     "execution_count": 61,
     "metadata": {},
     "output_type": "execute_result"
    }
   ],
   "source": [
    "def add_ten(x):\n",
    "    return x + 10\n",
    "\n",
    "add_ten"
   ]
  },
  {
   "cell_type": "code",
   "execution_count": 62,
   "metadata": {
    "slideshow": {
     "slide_type": "fragment"
    }
   },
   "outputs": [
    {
     "data": {
      "text/plain": [
       "12"
      ]
     },
     "execution_count": 62,
     "metadata": {},
     "output_type": "execute_result"
    }
   ],
   "source": [
    "increment = add_ten\n",
    "\n",
    "# two variables pointing to the same function object\n",
    "\n",
    "increment(2)"
   ]
  },
  {
   "cell_type": "code",
   "execution_count": null,
   "metadata": {
    "slideshow": {
     "slide_type": "subslide"
    }
   },
   "outputs": [],
   "source": []
  },
  {
   "cell_type": "code",
   "execution_count": 63,
   "metadata": {
    "slideshow": {
     "slide_type": "subslide"
    }
   },
   "outputs": [
    {
     "data": {
      "text/plain": [
       "25"
      ]
     },
     "execution_count": 63,
     "metadata": {},
     "output_type": "execute_result"
    }
   ],
   "source": [
    "def add_ten(x):\n",
    "    return x + 10\n",
    "\n",
    "def add_twenty(x):\n",
    "    return x + 20\n",
    "\n",
    "\n",
    "def do_something_to_a_number(a_number, a_function):\n",
    "    return a_function(a_number)\n",
    "\n",
    "\n",
    "operations = [add_ten, add_twenty]\n",
    "\n",
    "do_something_to_a_number(5, choice(operations))"
   ]
  },
  {
   "cell_type": "markdown",
   "metadata": {
    "slideshow": {
     "slide_type": "subslide"
    }
   },
   "source": [
    "Stuff like this is **very** common. Examples:\n",
    "\n",
    "- A lib asks you to give it a function, that it will call when something fails (an \"error_handler\", etc): `libx.do_something(when_fail=my_error_handler_function)`\n",
    "- Having a dict of functions to calculate suff in different ways: `{'factura_a': factura_a_function, 'factura_b': factura_b_function, ...}`.\n",
    "- etc"
   ]
  },
  {
   "cell_type": "markdown",
   "metadata": {
    "slideshow": {
     "slide_type": "fragment"
    }
   },
   "source": [
    "And decorators..."
   ]
  },
  {
   "cell_type": "code",
   "execution_count": 64,
   "metadata": {
    "slideshow": {
     "slide_type": "subslide"
    }
   },
   "outputs": [],
   "source": [
    "def add_ten(x):\n",
    "    return x + 10\n",
    "\n",
    "def add_twenty(x):\n",
    "    return x + 20"
   ]
  },
  {
   "cell_type": "code",
   "execution_count": 65,
   "metadata": {
    "slideshow": {
     "slide_type": "fragment"
    }
   },
   "outputs": [],
   "source": [
    "def log_operation(f):\n",
    "    def new_f(x):\n",
    "        print(datetime.now(), 'will call function', f.__name__, 'with parameter', x)\n",
    "        result = f(x)\n",
    "        print(datetime.now(), 'function', f.__name__, 'finished and returned', result)\n",
    "        return result\n",
    "    \n",
    "    return new_f"
   ]
  },
  {
   "cell_type": "code",
   "execution_count": 66,
   "metadata": {
    "slideshow": {
     "slide_type": "fragment"
    }
   },
   "outputs": [],
   "source": [
    "def add_ten(x):\n",
    "    return x + 10\n",
    "\n",
    "def add_twenty(x):\n",
    "    return x + 20\n",
    "\n",
    "add_ten = log_operation(add_ten)\n",
    "add_twenty = log_operation(add_twenty)"
   ]
  },
  {
   "cell_type": "code",
   "execution_count": 67,
   "metadata": {
    "slideshow": {
     "slide_type": "subslide"
    }
   },
   "outputs": [
    {
     "name": "stdout",
     "output_type": "stream",
     "text": [
      "2018-12-14 20:02:04.334124 will call function add_ten with parameter 2\n",
      "2018-12-14 20:02:04.337154 function add_ten finished and returned 12\n"
     ]
    },
    {
     "data": {
      "text/plain": [
       "12"
      ]
     },
     "execution_count": 67,
     "metadata": {},
     "output_type": "execute_result"
    }
   ],
   "source": [
    "add_ten(2)"
   ]
  },
  {
   "cell_type": "code",
   "execution_count": 68,
   "metadata": {
    "scrolled": true,
    "slideshow": {
     "slide_type": "fragment"
    }
   },
   "outputs": [
    {
     "name": "stdout",
     "output_type": "stream",
     "text": [
      "2018-12-14 20:02:19.103322 will call function add_twenty with parameter 3\n",
      "2018-12-14 20:02:19.104514 function add_twenty finished and returned 23\n"
     ]
    },
    {
     "data": {
      "text/plain": [
       "23"
      ]
     },
     "execution_count": 68,
     "metadata": {},
     "output_type": "execute_result"
    }
   ],
   "source": [
    "add_twenty(3)"
   ]
  },
  {
   "cell_type": "markdown",
   "metadata": {
    "slideshow": {
     "slide_type": "subslide"
    }
   },
   "source": [
    "We didn't \"alter\" the functions. We created new functions (which inside point to the original functions), and then we made the variables point to the new functions!"
   ]
  },
  {
   "cell_type": "markdown",
   "metadata": {
    "slideshow": {
     "slide_type": "subslide"
    }
   },
   "source": [
    "There's a nicer syntax!"
   ]
  },
  {
   "cell_type": "code",
   "execution_count": 69,
   "metadata": {
    "slideshow": {
     "slide_type": "fragment"
    }
   },
   "outputs": [],
   "source": [
    "@log_operation\n",
    "def add_ten(x):\n",
    "    return x + 10\n",
    "\n",
    "@log_operation\n",
    "def add_twenty(x):\n",
    "    return x + 20"
   ]
  },
  {
   "cell_type": "code",
   "execution_count": 70,
   "metadata": {
    "slideshow": {
     "slide_type": "fragment"
    }
   },
   "outputs": [
    {
     "name": "stdout",
     "output_type": "stream",
     "text": [
      "2018-12-14 20:03:24.613005 will call function add_ten with parameter 2\n",
      "2018-12-14 20:03:24.616805 function add_ten finished and returned 12\n"
     ]
    },
    {
     "data": {
      "text/plain": [
       "12"
      ]
     },
     "execution_count": 70,
     "metadata": {},
     "output_type": "execute_result"
    }
   ],
   "source": [
    "add_ten(2)"
   ]
  },
  {
   "cell_type": "code",
   "execution_count": 71,
   "metadata": {
    "scrolled": false,
    "slideshow": {
     "slide_type": "fragment"
    }
   },
   "outputs": [
    {
     "name": "stdout",
     "output_type": "stream",
     "text": [
      "2018-12-14 20:03:27.400077 will call function add_twenty with parameter 3\n",
      "2018-12-14 20:03:27.402321 function add_twenty finished and returned 23\n"
     ]
    },
    {
     "data": {
      "text/plain": [
       "23"
      ]
     },
     "execution_count": 71,
     "metadata": {},
     "output_type": "execute_result"
    }
   ],
   "source": [
    "add_twenty(3)"
   ]
  },
  {
   "cell_type": "markdown",
   "metadata": {
    "slideshow": {
     "slide_type": "subslide"
    }
   },
   "source": [
    "What if I don't know the parameters? Or I want to use the same decorator for functions with different number and names of parameters?...\n",
    "\n",
    "`*args` and `**kwargs`!"
   ]
  },
  {
   "cell_type": "code",
   "execution_count": 72,
   "metadata": {
    "slideshow": {
     "slide_type": "fragment"
    }
   },
   "outputs": [],
   "source": [
    "def log_operation(f):\n",
    "    def new_f(*args, **kwargs):\n",
    "        print('will call function', f.__name__, 'with parameter', args, kwargs)\n",
    "        result = f(*args, **kwargs)\n",
    "        print('function', f.__name__, 'finished and returned', result)\n",
    "        return result\n",
    "    \n",
    "    return new_f"
   ]
  },
  {
   "cell_type": "code",
   "execution_count": 73,
   "metadata": {
    "slideshow": {
     "slide_type": "fragment"
    }
   },
   "outputs": [
    {
     "name": "stdout",
     "output_type": "stream",
     "text": [
      "will call function do_stuff with parameter ('fisa', 'alecto') {'c': 'play at the backyard'}\n",
      "fisa and alecto will do: play at the backyard\n",
      "function do_stuff finished and returned everything went fine\n"
     ]
    },
    {
     "data": {
      "text/plain": [
       "'everything went fine'"
      ]
     },
     "execution_count": 73,
     "metadata": {},
     "output_type": "execute_result"
    }
   ],
   "source": [
    "@log_operation\n",
    "def do_stuff(a, b, c=None):\n",
    "    print(a, 'and', b, 'will do:', c)\n",
    "    return 'everything went fine'\n",
    "    \n",
    "\n",
    "do_stuff('fisa', 'alecto', c='play at the backyard')"
   ]
  },
  {
   "cell_type": "markdown",
   "metadata": {
    "slideshow": {
     "slide_type": "subslide"
    }
   },
   "source": [
    "Decorators are used a **lot**. Many libs provide useful decorators. Example:\n",
    "\n",
    "```python\n",
    "@login_required\n",
    "def delete_post(request, post_id):\n",
    "    post = Post.objects.get(pk=post_id)\n",
    "    post.delete()\n",
    "    return render('deleted_post_message.html', ...)\n",
    "```"
   ]
  }
 ],
 "metadata": {
  "celltoolbar": "Slideshow",
  "kernelspec": {
   "display_name": "Python 3",
   "language": "python",
   "name": "python3"
  },
  "language_info": {
   "codemirror_mode": {
    "name": "ipython",
    "version": 3
   },
   "file_extension": ".py",
   "mimetype": "text/x-python",
   "name": "python",
   "nbconvert_exporter": "python",
   "pygments_lexer": "ipython3",
   "version": "3.6.3"
  }
 },
 "nbformat": 4,
 "nbformat_minor": 2
}
