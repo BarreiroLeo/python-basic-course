{
 "cells": [
  {
   "cell_type": "markdown",
   "metadata": {
    "slideshow": {
     "slide_type": "slide"
    }
   },
   "source": [
    "## Extra topics: Docker\n",
    "\n",
    "\n",
    "fisa (@fisadev, fisadev@gmail.com)\n",
    "\n",
    "https://github.com/fisadev/python-basic-course"
   ]
  },
  {
   "cell_type": "markdown",
   "metadata": {
    "slideshow": {
     "slide_type": "slide"
    }
   },
   "source": [
    "# Class 6 overview\n",
    "\n",
    "Topic: docker\n",
    "\n",
    "- Some Linux kernel basic ideas\n",
    "- The need for isolation\n",
    "- Life before docker\n",
    "    - Virtualization\n",
    "    - chroot, \"manual\" LXC, etc\n",
    "- Docker: general idea\n",
    "- Docker vs the other tools\n",
    "- More on images\n",
    "    - Dockerfile basics\n",
    "    - Building\n",
    "    - Listing images\n",
    "    - Layers, cache\n",
    "    - Registries\n",
    "- More on containers\n",
    "    - Running, creating, starting\n",
    "    - Stopping, deleting\n",
    "    - Listing\n",
    "    - Running with a different command\n",
    "- Persistent filesystem\n",
    "- Orchestration\n",
    "    - Docker compose\n",
    "    - Kubernetes"
   ]
  },
  {
   "cell_type": "markdown",
   "metadata": {
    "slideshow": {
     "slide_type": "subslide"
    }
   },
   "source": [
    "## Some Linux kernel basic ideas\n",
    "\n",
    "We won't go into details, but we should know that:\n",
    "\n",
    "- Kernel vs other stuff on top: a \"linux system\" is a kernel plus lots of programs and modules that we run on top of it. Distros decide which stuff, not the kernel.\n",
    "- Isolation features: the kernel can isolate processes from each other in several ways."
   ]
  },
  {
   "cell_type": "markdown",
   "metadata": {
    "slideshow": {
     "slide_type": "subslide"
    }
   },
   "source": [
    "## The need for isolation\n",
    "\n",
    "- Sometimes you need to run stuff that you don't trust\n",
    "- Sometimes you need to share resources between stuff that can't trust each other\n",
    "- Sometimes you need to share resources between stuff that isn't compatible with each other\n",
    "\n",
    "Most common examples:\n",
    "\n",
    "- Hosting services running code from its users\n",
    "- Company with areas sharing servers\n",
    "- Different systems running in the same servers"
   ]
  },
  {
   "cell_type": "markdown",
   "metadata": {
    "slideshow": {
     "slide_type": "subslide"
    }
   },
   "source": [
    "## Life before docker\n",
    "\n",
    "How did people solve those issues?\n",
    "\n",
    "- Virtualization: host OS, virtual machines isolated from each other, emulating HW to run their own OSs, etc.\n",
    "- Chroot, manual LXC, etc: ability to isolate processes inside the same OS, but very hard to use, automate, etc."
   ]
  },
  {
   "cell_type": "markdown",
   "metadata": {
    "slideshow": {
     "slide_type": "subslide"
    }
   },
   "source": [
    "## Docker: general idea\n",
    "\n",
    "Basically a simpler way of isolating, distributing and running apps. And making the environments **reproducible**."
   ]
  },
  {
   "cell_type": "markdown",
   "metadata": {
    "slideshow": {
     "slide_type": "subslide"
    }
   },
   "source": [
    "## Docker: general idea\n",
    "\n",
    "How?\n",
    "\n",
    "1. Create a **Dockerfile**: a recipe of how to create the environment to run some specific process (app)\n",
    "2. Compile (build) it creating an **image**: a photo of the program and its environment, packaged with all its requirements, ready to run\n",
    "3. Launch **containers** using that image: running many instances of the program, isolated between each other and the rest of the OS"
   ]
  },
  {
   "cell_type": "markdown",
   "metadata": {
    "slideshow": {
     "slide_type": "subslide"
    }
   },
   "source": [
    "![](./docker_1.svg)"
   ]
  },
  {
   "cell_type": "markdown",
   "metadata": {
    "slideshow": {
     "slide_type": "subslide"
    }
   },
   "source": [
    "![](./docker_2.svg)"
   ]
  },
  {
   "cell_type": "markdown",
   "metadata": {
    "slideshow": {
     "slide_type": "subslide"
    }
   },
   "source": [
    "## Docker: general idea\n",
    "\n",
    "And two important ideas:\n",
    "\n",
    "- Each container should run **one thing** (process). Example: one container with the web app, another with the db server, etc.\n",
    "- Containers are **disposable**: they don't store information, they can be killed and replaced, scaled up or down. Persisten info is stored outside (more on this later) "
   ]
  },
  {
   "cell_type": "markdown",
   "metadata": {
    "slideshow": {
     "slide_type": "subslide"
    }
   },
   "source": [
    "## Docker: general idea\n",
    "\n",
    "- Quite easy to use\n",
    "\n",
    "- It uses LXC and plenty of other kernel features to isolate the processes\n",
    "- They all run under the same host linux kernel\n",
    "- So it doesn't need to emulate hardware, or run many OSs!\n",
    "    - Super light in resources usage\n",
    "\n",
    "- It provides tools to monitor and manage running containers, to interconnect them, etc\n",
    "- It provides tools to share and reuse images: reproducible environments! (99%)\n"
   ]
  },
  {
   "cell_type": "markdown",
   "metadata": {
    "slideshow": {
     "slide_type": "subslide"
    }
   },
   "source": [
    "## Docker vs other tools\n",
    "\n",
    "Vs virtualization:\n",
    "- Way less resources usage: no repeated OSs, no HW emulation, etc.\n",
    "- Easier to share images (both in work and in size).\n",
    "- Slightly less secure, but secure enough for most scenarios (and there are solutions when it's not).\n",
    "\n",
    "Vs manual usage of LXC and the rest of the kernel stuff:\n",
    "- Way, way easier.\n",
    "- Less freedom, but works for 95% of scenarios."
   ]
  },
  {
   "cell_type": "markdown",
   "metadata": {
    "slideshow": {
     "slide_type": "subslide"
    }
   },
   "source": [
    "## More on images: Dockerfile\n",
    "\n",
    "Docker file basics:\n",
    "\n",
    "- It begins from another image (for example: \"begin with a clean Ubuntu 16.04\")\n",
    "- It runs steps to prepare the env for our program (example: install dependencies, copy files)\n",
    "- It specifies how the program will be ran inside"
   ]
  },
  {
   "cell_type": "markdown",
   "metadata": {
    "slideshow": {
     "slide_type": "subslide"
    }
   },
   "source": [
    "## More on images: Dockerfile\n",
    "\n",
    "Example Dockerfile:\n",
    "\n",
    "```Dockerfile\n",
    "FROM python:3.6\n",
    "\n",
    "# the dir for our website stuff\n",
    "RUN mkdir /myweb\n",
    "WORKDIR /myweb\n",
    "\n",
    "# copy requirements file into the image, \n",
    "# and install them\n",
    "COPY requirements.txt /myweb/\n",
    "RUN pip install -r requirements.txt\n",
    "\n",
    "# copy our website code\n",
    "COPY web.py /myweb/\n",
    "\n",
    "# to run our website, we need this env variable\n",
    "ENV FLASK_APP web.py\n",
    "# and this is how the website runs\n",
    "CMD [\"flask\", \"run\", \"--host=0.0.0.0\"]\n",
    "```"
   ]
  },
  {
   "cell_type": "markdown",
   "metadata": {
    "slideshow": {
     "slide_type": "subslide"
    }
   },
   "source": [
    "## More on images: Dockerfile\n",
    "\n",
    "We can now build the image using our dockerfile!\n",
    "\n",
    "(go to the folder where the Dockerfile is)\n",
    "\n",
    "```docker build -t my_web .```\n",
    "\n",
    "If we list the images in our machine, we can see it:\n",
    "\n",
    "```docker images```\n",
    "\n",
    "Remember: our web is **not** running. We just crated the image, which is a \"mold\" for containers."
   ]
  },
  {
   "cell_type": "markdown",
   "metadata": {
    "slideshow": {
     "slide_type": "subslide"
    }
   },
   "source": [
    "## More on images: Dockerfile\n",
    "\n",
    "You can also remove images with:\n",
    "\n",
    "```docker rmi my_web```\n",
    "\n",
    "And images can have tags, to name different versions (like `python:3.6`, `python:3.5`, etc)"
   ]
  },
  {
   "cell_type": "markdown",
   "metadata": {
    "slideshow": {
     "slide_type": "subslide"
    }
   },
   "source": [
    "## More on images: Layers, cache\n",
    "\n",
    "If we build, and then build again, it does nothing. Why??\n",
    "\n",
    "Docker remembers that it already ran this Dockerfile, and knows the result. It has a cache.\n",
    "We can force a re run with:\n",
    "\n",
    "```docker build --no-cache -t my_web .```\n",
    "\n",
    "But the cache is way smarter than just that. Lets build, then change one line, and build again..."
   ]
  },
  {
   "cell_type": "markdown",
   "metadata": {
    "slideshow": {
     "slide_type": "subslide"
    }
   },
   "source": [
    "## More on images: Layers, cache\n",
    "\n",
    "Docker caches the result of each **line** of our dockerfile, and runs only the lines it needs to re run.\n",
    "\n",
    "This results are called **Layers**.\n",
    "\n",
    "Each layer is like a git commit, storing the photo of the stuff at that point. And as commits, each layer points to its \"parent\" layer.\n",
    "\n",
    "An image is **a collection of layers** with a name."
   ]
  },
  {
   "cell_type": "markdown",
   "metadata": {
    "slideshow": {
     "slide_type": "subslide"
    }
   },
   "source": [
    "## More on images: Layers, cache\n",
    "\n",
    "Also: we said `FROM python:3.6`. Where does that image come from?? How did we get its layers to build ours on top??\n",
    "\n",
    "The answer: **Registries**.\n",
    "\n",
    "Docker can pull and push images (collections of layers, with a name) to and from registries. Registries are repositories of images.\n",
    "\n",
    "By default, docker knows of \"The Registry\", the public one. But you can create our own private one, and add it.\n",
    "\n",
    "So `python:3.6` is just an image that someone created and published. Its Dockerfile is public too. Docker automatically downloaded it when we needed it."
   ]
  },
  {
   "cell_type": "markdown",
   "metadata": {
    "slideshow": {
     "slide_type": "subslide"
    }
   },
   "source": [
    "## More on containers: running\n",
    "\n",
    "So, we have our image ready. How do we run our website?\n",
    "\n",
    "Simplest option:\n",
    "\n",
    "```docker run --rm -t -i -p 5001:5000 my_web```\n",
    "\n",
    "This means: docker, run a container from the image `my_web`, and attack my terminal to it (`-t -i`). Also, remove the container when the web is no longer running (`--rm`). And map the port `5001` of my machine, to the port `5000` of the container (which is kind of a different machine)."
   ]
  },
  {
   "cell_type": "markdown",
   "metadata": {
    "slideshow": {
     "slide_type": "subslide"
    }
   },
   "source": [
    "## More on containers: creating and starting\n",
    "\n",
    "It's running, but it is tied to our terminal. That's useful for development, but not for a server (we want to run it in background, etc).\n",
    "\n",
    "Instead, we can just create and launch the containers. And also, we can give each container a **name**:\n",
    "\n",
    "```docker create --name web1 -p 5001:5000 my_web```\n",
    "\n",
    "```docker start web1```\n",
    "\n",
    "This means: hey docker, create a container named `web1` with the image `my_web`. Also, map the port, as before. And then: docker, start that container!\n",
    "\n",
    "And that's it! Our web is running! We can access it at `http://localhost:5001`."
   ]
  },
  {
   "cell_type": "markdown",
   "metadata": {
    "slideshow": {
     "slide_type": "subslide"
    }
   },
   "source": [
    "## More on containers: creating and starting\n",
    "\n",
    "But there's more: we can have as many as we want!\n",
    "\n",
    "```docker create --name web2 -p 5002:5000 my_web```\n",
    "\n",
    "```docker create --name web3 -p 5003:5000 my_web```\n",
    "\n",
    "And launch them at once:\n",
    "\n",
    "```docker start web2 web3```"
   ]
  },
  {
   "cell_type": "markdown",
   "metadata": {
    "slideshow": {
     "slide_type": "subslide"
    }
   },
   "source": [
    "## More on containers: stopping, deleting\n",
    "\n",
    "We can stop them all:\n",
    "\n",
    "```docker stop web1 web2 web3```\n",
    "\n",
    "And we can re-start them whenever we want, or just delete them:\n",
    "\n",
    "```docker rm web1 web2 web3```"
   ]
  },
  {
   "cell_type": "markdown",
   "metadata": {
    "slideshow": {
     "slide_type": "subslide"
    }
   },
   "source": [
    "## More on containers: listing\n",
    "\n",
    "We can list running containers with:\n",
    "\n",
    "```docker ps```\n",
    "\n",
    "But a way more useful tool is [Ctop](https://github.com/bcicen/ctop) (not easy to install, but very easy to use)"
   ]
  },
  {
   "cell_type": "markdown",
   "metadata": {
    "slideshow": {
     "slide_type": "subslide"
    }
   },
   "source": [
    "## More on containers: running with a different command\n",
    "\n",
    "Our image specifies the command that will be ran in the containers:\n",
    "\n",
    "```Dockerfile\n",
    "# and this is how the website runs\n",
    "CMD [\"flask\", \"run\", \"--host=0.0.0.0\"]\n",
    "```\n",
    "\n",
    "But we can run a container from that image specifying a different command. For example:\n",
    "\n",
    "```docker run --rm -t -i my_web ls -la /myweb```\n",
    "\n",
    "This will create a container, run `ls -la /myweb`. The container is closed when the command finishes (in the web case, it doesn't finish unless we kill it).\n",
    "\n",
    "This is useful for debug, we can just open a terminal inside a container:\n",
    "\n",
    "```docker run --rm -t -i my_web bash```\n",
    "\n",
    "This is **SUPER USEFUL**. Think of it: creates a full new environment with all installed, we can do whatever we want, and the env is destroyed when we exit it. Completely isolated from our machine. And with just one command!\n",
    "\n",
    "Free infinite dev break-all-you-want envs."
   ]
  },
  {
   "cell_type": "markdown",
   "metadata": {
    "slideshow": {
     "slide_type": "subslide"
    }
   },
   "source": [
    "## Persistent filesystems\n",
    "\n",
    "Containers are disposable. So what if we want to store permanent information??\n",
    "\n",
    "We can map a folder in our machine, to a folder inside the container. That way, anything the container stores in that folder, is permanent and visible from the outside:\n",
    "\n",
    "```docker run --rm -t -i -p 5001:5000 -v /home/fisa/devel/python-basic-course/docker_example/data/:/data my_web```\n",
    "\n",
    "Or the same in the create command:\n",
    "\n",
    "```docker create --name web1 -p 5001:5000 -v /home/fisa/devel/python-basic-course/docker_example/data/:/data my_web```\n",
    "\n",
    "\n",
    "On both we added `-v /home/fisa/devel/python-basic-course/docker_example/data/:/data`, wich means \"hey docker, when the container uses `/data`, use instead the real persisten folder `/home/fisa/devel/python-basic-course/docker_example/data/`.\n",
    "\n",
    "We can even map multiple containers to that same folder!"
   ]
  },
  {
   "cell_type": "markdown",
   "metadata": {
    "slideshow": {
     "slide_type": "subslide"
    }
   },
   "source": [
    "## Orchestration\n",
    "\n",
    "Ok, we have several dockerfiles ready, for our different apps and services. We need to have all of them running, how do we do that?\n",
    "\n",
    "The answer: **Orchestration** tools.\n",
    "\n",
    "These tools are designed to manage \"fleets\" of containers. I'll mention two: Docker compose and Kubernetes."
   ]
  },
  {
   "cell_type": "markdown",
   "metadata": {
    "slideshow": {
     "slide_type": "subslide"
    }
   },
   "source": [
    "## Docker compose\n",
    "\n",
    "- It's the easier one, but the one with the fewer features. Super basic.\n",
    "- Only allows to build and launch our fleet of containers in a specific order, and to stop them.\n",
    "- All is defined in a single .yml file"
   ]
  },
  {
   "cell_type": "markdown",
   "metadata": {
    "slideshow": {
     "slide_type": "subslide"
    }
   },
   "source": [
    "## Docker compose: example\n",
    "\n",
    "docker-compose.yml\n",
    "\n",
    "```yaml\n",
    "version: \"2\"\n",
    "services:\n",
    "    web:\n",
    "      hostname: web\n",
    "      build:\n",
    "          context: .\n",
    "      depends_on:\n",
    "        - worker\n",
    "\n",
    "    worker:\n",
    "      build: \n",
    "        context: ./worker/ \n",
    "```"
   ]
  },
  {
   "cell_type": "markdown",
   "metadata": {
    "slideshow": {
     "slide_type": "subslide"
    }
   },
   "source": [
    "## Docker compose: example\n",
    "\n",
    "In this example, we have a web app, that also needs a different process which is a worker app. They have different Dockerfiles (the worker one is in a `worker` subfolder).\n",
    "\n",
    "We can start all of them together with:\n",
    "\n",
    "```docker-compose -f docker-compose.yml up```\n",
    "\n",
    "And we can even specify how many containers to launch for each service!:\n",
    "\n",
    "```docker-compose -f docker-compose.yml up --scale web=3 worker=2```\n",
    "\n",
    "We can then stop everything with:\n",
    "\n",
    "```docker-compose -f docker-compose.yml stop```"
   ]
  },
  {
   "cell_type": "markdown",
   "metadata": {
    "slideshow": {
     "slide_type": "subslide"
    }
   },
   "source": [
    "## Kubernetes\n",
    "\n",
    "- Similar to docker compose, but waaaay more full of features\n",
    "- Not only building, running and stopping, but a lot of other stuff:\n",
    "    - scaling, and even auto scaling\n",
    "    - load balancing\n",
    "    - health monitoring\n",
    "    - rollouts and rollbacks\n",
    "    - and many more...\n",
    "- Developed by google, used to run huge infrastructures\n",
    "- Harder to start using it, but will scale up"
   ]
  }
 ],
 "metadata": {
  "celltoolbar": "Slideshow",
  "kernelspec": {
   "display_name": "Python 3",
   "language": "python",
   "name": "python3"
  },
  "language_info": {
   "codemirror_mode": {
    "name": "ipython",
    "version": 3
   },
   "file_extension": ".py",
   "mimetype": "text/x-python",
   "name": "python",
   "nbconvert_exporter": "python",
   "pygments_lexer": "ipython3",
   "version": "3.6.3"
  }
 },
 "nbformat": 4,
 "nbformat_minor": 2
}
