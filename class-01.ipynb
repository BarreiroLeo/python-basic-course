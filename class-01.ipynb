{
 "cells": [
  {
   "cell_type": "markdown",
   "metadata": {
    "slideshow": {
     "slide_type": "slide"
    }
   },
   "source": [
    "## Python intro\n",
    "\n",
    "\n",
    "\n",
    "fisa (@fisadev, fisadev@gmail.com)"
   ]
  },
  {
   "cell_type": "markdown",
   "metadata": {
    "slideshow": {
     "slide_type": "slide"
    }
   },
   "source": [
    "## Class 1 ovrview\n",
    "\n",
    "- Why Python\n",
    "- Code execution\n",
    "- Type system\n",
    "- Ecosystem and basic tooling\n",
    "- Now, python, the language"
   ]
  },
  {
   "cell_type": "markdown",
   "metadata": {
    "slideshow": {
     "slide_type": "slide"
    }
   },
   "source": [
    "\n",
    "# Why Python\n",
    "\n",
    "- Simplicity, speed of development\n",
    "- Multiplatform, multiparadigm\n",
    "- Application, adoption, huge ecosystem\n",
    "- OSS license, usage\n",
    "- Versions, history\n",
    "- Easy integration with C and lots of existing, fast libs\n",
    "- Community!! PSF, PyAr, PyCon, etc"
   ]
  },
  {
   "cell_type": "markdown",
   "metadata": {
    "slideshow": {
     "slide_type": "subslide"
    }
   },
   "source": [
    "https://stackoverflow.blog/2017/09/06/incredible-growth-python/\n",
    "\n",
    "![trend](python_trend.png)"
   ]
  },
  {
   "cell_type": "markdown",
   "metadata": {
    "slideshow": {
     "slide_type": "slide"
    }
   },
   "source": [
    "# Code execution\n",
    "\n",
    "- Installation\n",
    "- Distributions (cpy, pypy, jpy, ...)\n",
    "- Running files vs repl\n",
    "- Compiled vs interpreted"
   ]
  },
  {
   "cell_type": "markdown",
   "metadata": {
    "slideshow": {
     "slide_type": "subslide"
    }
   },
   "source": [
    "### Installation\n",
    "\n",
    "- Linux: \n",
    "    - 2 is usually there. **Lots** of usage\n",
    "    - 3 is usually one command installation (example: `sudo apt install python3`)\n",
    "- Windows: installers form the oficial website"
   ]
  },
  {
   "cell_type": "markdown",
   "metadata": {
    "slideshow": {
     "slide_type": "subslide"
    }
   },
   "source": [
    "### Distributions\n",
    "\n",
    "- \"Python\" == \"CPython\" (not to be confused with Cython)\n",
    "- Pypy?\n",
    "- Jython? IronPython?\n",
    "- MicroPython?"
   ]
  },
  {
   "cell_type": "markdown",
   "metadata": {
    "slideshow": {
     "slide_type": "subslide"
    }
   },
   "source": [
    "### Running files vs repl\n",
    "\n",
    "- Running files is the usual way of running programs\n",
    "- Embrace the repl: explore, try, debug, quick 1-time things, etc\n",
    "- \"python\" vs \"python2\" vs \"python3\" vs ..."
   ]
  },
  {
   "cell_type": "markdown",
   "metadata": {
    "slideshow": {
     "slide_type": "subslide"
    }
   },
   "source": [
    "### Running code: special cases\n",
    "\n",
    "- Embedding? (example: Blender)\n",
    "- Jupyter notebooks (more on that in the future)"
   ]
  },
  {
   "cell_type": "code",
   "execution_count": null,
   "metadata": {
    "scrolled": true,
    "slideshow": {
     "slide_type": "fragment"
    }
   },
   "outputs": [],
   "source": [
    "a = \"hello \"\n",
    "b = \"world\"\n",
    "\n",
    "(a + b).upper()"
   ]
  },
  {
   "cell_type": "markdown",
   "metadata": {
    "slideshow": {
     "slide_type": "subslide"
    }
   },
   "source": [
    "### Compiled? Interpreted?"
   ]
  },
  {
   "cell_type": "markdown",
   "metadata": {
    "slideshow": {
     "slide_type": "fragment"
    }
   },
   "source": [
    "Both!"
   ]
  },
  {
   "cell_type": "markdown",
   "metadata": {
    "slideshow": {
     "slide_type": "slide"
    }
   },
   "source": [
    "# Type system\n",
    "\n",
    "- Strong vs weak typing\n",
    "- Static vs dynamic typing\n",
    "- Optional typing, type inference\n",
    "- Duck typing!"
   ]
  },
  {
   "cell_type": "markdown",
   "metadata": {
    "slideshow": {
     "slide_type": "subslide"
    }
   },
   "source": [
    "### Strong vs weak typing\n",
    "\n",
    "- It has nothing to do with specifying types for variables\n",
    "- Python is **strongly** typed.\n",
    "- A string is not a number (I'm looking at you, javascript)"
   ]
  },
  {
   "cell_type": "code",
   "execution_count": null,
   "metadata": {
    "slideshow": {
     "slide_type": "fragment"
    }
   },
   "outputs": [],
   "source": [
    "a = \"hello\"\n",
    "b = 1\n",
    "\n",
    "a + b"
   ]
  },
  {
   "cell_type": "code",
   "execution_count": null,
   "metadata": {
    "slideshow": {
     "slide_type": "fragment"
    }
   },
   "outputs": [],
   "source": [
    "type(a)"
   ]
  },
  {
   "cell_type": "markdown",
   "metadata": {
    "slideshow": {
     "slide_type": "subslide"
    }
   },
   "source": [
    "### Static vs dynamic typing"
   ]
  },
  {
   "cell_type": "markdown",
   "metadata": {
    "slideshow": {
     "slide_type": "fragment"
    }
   },
   "source": [
    "Both!\n",
    "\n",
    "- Static typing: the typing info knowable from the code\n",
    "- Dynamic typing: the typing info not knowable from the code, only knowable when running\n",
    "- All languages have both\n",
    "- Python: usually little info from the code, more at runtime"
   ]
  },
  {
   "cell_type": "markdown",
   "metadata": {
    "slideshow": {
     "slide_type": "subslide"
    }
   },
   "source": [
    "### Static vs dynamic typing\n",
    "\n",
    "Python static typing: everything is an object\n",
    "\n",
    "Python dynamic typing: which subclass of object?"
   ]
  },
  {
   "cell_type": "code",
   "execution_count": null,
   "metadata": {
    "slideshow": {
     "slide_type": "fragment"
    }
   },
   "outputs": [],
   "source": [
    "def duplicate(thing):\n",
    "    print('the thing was a', type(thing))\n",
    "    print('is the thing an object?', isinstance(thing, object))\n",
    "    return thing * 2"
   ]
  },
  {
   "cell_type": "code",
   "execution_count": null,
   "metadata": {
    "slideshow": {
     "slide_type": "fragment"
    }
   },
   "outputs": [],
   "source": [
    "duplicate(10)"
   ]
  },
  {
   "cell_type": "markdown",
   "metadata": {
    "slideshow": {
     "slide_type": "subslide"
    }
   },
   "source": [
    "### Optional typing, type inference\n",
    "\n",
    "Looking at the code, many times we can know more than just \"it's an object\". That's **inference**:"
   ]
  },
  {
   "cell_type": "code",
   "execution_count": null,
   "metadata": {
    "slideshow": {
     "slide_type": "fragment"
    }
   },
   "outputs": [],
   "source": [
    "a = 1\n",
    "b = 2\n",
    "c = a + b\n",
    "\n",
    "isinstance(c, int)"
   ]
  },
  {
   "cell_type": "markdown",
   "metadata": {
    "slideshow": {
     "slide_type": "fragment"
    }
   },
   "source": [
    "- Most python interpreters don't use that, just leave it for runtime resolution\n",
    "- But many tools do use it (editors, IDEs, code checkers. Example: vim)"
   ]
  },
  {
   "cell_type": "markdown",
   "metadata": {
    "slideshow": {
     "slide_type": "subslide"
    }
   },
   "source": [
    "But static typing information is also is useful for **correctness** and for **readability**...\n",
    "\n",
    "... so Python lets you add it too:\n"
   ]
  },
  {
   "cell_type": "code",
   "execution_count": null,
   "metadata": {
    "slideshow": {
     "slide_type": "fragment"
    }
   },
   "outputs": [],
   "source": [
    "def format_name(name: str, max_length: int) -> str:\n",
    "    formatted_name = name.upper()[:max_length]\n",
    "    return formatted_name\n",
    "\n",
    "format_name(10, 'fisa')"
   ]
  },
  {
   "cell_type": "markdown",
   "metadata": {
    "slideshow": {
     "slide_type": "subslide"
    }
   },
   "source": [
    "### Optional static typing info\n",
    "\n",
    "- Completely optional, and only in python3\n",
    "- Python will ignore that at runtime\n",
    "- But mypy will check it for you\n",
    "- And again, many tools use it too (editors, IDEs, code checkers. Example: vim)"
   ]
  },
  {
   "cell_type": "markdown",
   "metadata": {
    "slideshow": {
     "slide_type": "subslide"
    }
   },
   "source": [
    "### Duck typing!\n",
    "\n",
    "\"If it walks like a duck and it quacks like a duck, then it must be a duck\""
   ]
  },
  {
   "cell_type": "code",
   "execution_count": null,
   "metadata": {
    "slideshow": {
     "slide_type": "fragment"
    }
   },
   "outputs": [],
   "source": [
    "class Human:\n",
    "    def walk(self):\n",
    "        print('walking')\n",
    "        \n",
    "class Robot:\n",
    "    def walk(self):\n",
    "        print('beep beep walking')\n",
    "\n",
    "        \n",
    "def make_thing_walk(thing):\n",
    "    thing.walk()"
   ]
  },
  {
   "cell_type": "code",
   "execution_count": null,
   "metadata": {
    "slideshow": {
     "slide_type": "fragment"
    }
   },
   "outputs": [],
   "source": [
    "make_thing_walk(Human())"
   ]
  },
  {
   "cell_type": "markdown",
   "metadata": {
    "slideshow": {
     "slide_type": "subslide"
    }
   },
   "source": [
    "### Duck typing!\n",
    "\n",
    "\"Python doesn't have interfaces, boo!\"  <-- wrong. Python doesn't **need** interfaces.\n",
    "\n",
    "Common \"patterns\": protocols. Example: file protocol (\"file-like object\") is anything with an .open(), .close(), .read(), etc"
   ]
  },
  {
   "cell_type": "markdown",
   "metadata": {
    "slideshow": {
     "slide_type": "slide"
    }
   },
   "source": [
    "# Ecosystem and basic tooling\n",
    "\n",
    "- No single source of \"truth\".\n",
    "- Editors, IDEs\n",
    "- Batteries included (stdlib)\n",
    "- Extra batteries (Pip, PyPI)\n",
    "- Linux: system python vs projects python\n",
    "- Virtualenvs\n",
    "- Code quality (pep8, flake8)"
   ]
  },
  {
   "cell_type": "markdown",
   "metadata": {
    "slideshow": {
     "slide_type": "subslide"
    }
   },
   "source": [
    "### No single source of \"truth\"\n",
    "\n",
    "- Huge community, continuously evolving.\n",
    "- Sometimes several valid different approaches. Options to choose. Example: web frameworks.\n",
    "- No small group holding the reins. You can help."
   ]
  },
  {
   "cell_type": "markdown",
   "metadata": {
    "slideshow": {
     "slide_type": "subslide"
    }
   },
   "source": [
    "### Editors, IDEs\n",
    "\n",
    "- Remember that \"options\" thing?... This is the best-worst example :)\n",
    "- Notepad works. For some definition of \"works\".\n",
    "- Gedit, Notepad++, etc: basic syntax highlighting, not much more.\n",
    "- Visua Studio Code (not the non-Code one), Sublime Text, Atom, Vim, Emacs: a lot of extra stuff (error checking, git integration, autocomplete, file and class browser, etc)\n",
    "- Full blown IDES like PyCharm, with even more stuff and ram usage! (integrated debuggers, virtualenv handling, etc)\n",
    "- Don't know where to start? Try Visual Studio Code, Sublime Text or Atom."
   ]
  },
  {
   "cell_type": "markdown",
   "metadata": {
    "slideshow": {
     "slide_type": "subslide"
    }
   },
   "source": [
    "### Batteries included (stdlib)\n",
    "\n",
    "- Python is not just the language, but the lib.\n",
    "- Lots of useful stuff: csv, xml, json, http, sqlite, mail, sockets, etc etc etc\n",
    "- Basic building blocks, for some there are third party libs \"on top\" (example: requests > http)\n",
    "- Don't reinvent, google first, many algorithmic stuff are already there too (collections, itertools, etc)\n",
    "- Official docs: https://docs.python.org"
   ]
  },
  {
   "cell_type": "code",
   "execution_count": null,
   "metadata": {
    "slideshow": {
     "slide_type": "subslide"
    }
   },
   "outputs": [],
   "source": [
    "import json\n",
    "import itertools\n",
    "\n",
    "colors = 'red', 'green', 'blue', 'yellow', 'purple'\n",
    "\n",
    "with open('sample.csv', 'w') as sample_file:\n",
    "    csv_writer = csv.writer(sample_file)\n",
    "    csv_writer.writerows(itertools.combinations(colors, 3))"
   ]
  },
  {
   "cell_type": "code",
   "execution_count": null,
   "metadata": {
    "slideshow": {
     "slide_type": "fragment"
    }
   },
   "outputs": [],
   "source": [
    "!cat sample.csv"
   ]
  },
  {
   "cell_type": "markdown",
   "metadata": {
    "slideshow": {
     "slide_type": "subslide"
    }
   },
   "source": [
    "### Extra batteries (Pip, PyPI)\n",
    "\n",
    "- If you have a problem, chances are somebody else also had it before you\n",
    "- And many of those people share their solutions: libs\n",
    "- PyPI!! https://pypi.org/\n",
    "    - 160.000 libs, free and ready to use\n",
    "    - Many solved problems. Sometimes many options for the solution.\n",
    "    - Search them first!"
   ]
  },
  {
   "cell_type": "markdown",
   "metadata": {
    "slideshow": {
     "slide_type": "subslide"
    }
   },
   "source": [
    "### Extra batteries (Pip, PyPI)\n",
    "\n",
    "How do I get them? Pip!\n",
    "\n",
    "First, you need pip:\n",
    "\n",
    "- On ubuntu linux: `sudo apt install python3-pip` (or `python-pip` for python2)\n",
    "- On windows: it comes with python!"
   ]
  },
  {
   "cell_type": "markdown",
   "metadata": {
    "slideshow": {
     "slide_type": "fragment"
    }
   },
   "source": [
    "Then, you use to get stuff:\n",
    "\n",
    "(don't include the initial `!` in your terminal, that's just a jupyter thing)"
   ]
  },
  {
   "cell_type": "code",
   "execution_count": null,
   "metadata": {
    "slideshow": {
     "slide_type": "fragment"
    }
   },
   "outputs": [],
   "source": [
    "!pip install requests"
   ]
  },
  {
   "cell_type": "markdown",
   "metadata": {
    "slideshow": {
     "slide_type": "slide"
    }
   },
   "source": [
    "# Now, python, the language\n",
    "\n",
    "\n",
    "I'll start using a real editor :)\n",
    "\n",
    "- Supported paradigms\n",
    "- Basic types (numbers, bools, strings, nones)\n",
    "- Basic syntax and flow control (if, for, while)\n",
    "- Expressions / operators (including `is` vs `==`!)\n",
    "- Everything has a truth value!\n",
    "- Exception handling\n",
    "- Useful data structures (lists, dicts, sets)\n",
    "- Functions (args, kwargs, docstrings, lambdas)\n",
    "- Object orientation\n",
    "    - classes\n",
    "    - inheritance (and multiple!)\n",
    "    - class vs instance methods\n",
    "    - class vs instance attributes\n",
    "    - `__init__`\n",
    "    - getters and setters? propperties! but **you don't need them all the time**\n",
    "    - other magic methods\n",
    "- Builtins\n",
    "- Modules, importing stuff\n"
   ]
  },
  {
   "cell_type": "markdown",
   "metadata": {
    "slideshow": {
     "slide_type": "slide"
    }
   },
   "source": [
    "# If we have spare time today (otherwise, next class)\n",
    "\n",
    "Sllightly more advanced topics:\n",
    "\n",
    "- Comprehensions\n",
    "- Variables: everything is an object, everything is a reference\n",
    "- Mutability vs immutability\n",
    "- Strings: unicode vs bytes\n",
    "- Higher order functions, decorators\n"
   ]
  }
 ],
 "metadata": {
  "celltoolbar": "Slideshow",
  "kernelspec": {
   "display_name": "Python 3",
   "language": "python",
   "name": "python3"
  },
  "language_info": {
   "codemirror_mode": {
    "name": "ipython",
    "version": 3
   },
   "file_extension": ".py",
   "mimetype": "text/x-python",
   "name": "python",
   "nbconvert_exporter": "python",
   "pygments_lexer": "ipython3",
   "version": "3.6.3"
  }
 },
 "nbformat": 4,
 "nbformat_minor": 2
}
