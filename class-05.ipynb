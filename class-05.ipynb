{
 "cells": [
  {
   "cell_type": "markdown",
   "metadata": {
    "slideshow": {
     "slide_type": "slide"
    }
   },
   "source": [
    "## Extra topics: Code Versioning with Git\n",
    "\n",
    "\n",
    "fisa (@fisadev, fisadev@gmail.com)\n",
    "\n",
    "https://github.com/fisadev/python-basic-course"
   ]
  },
  {
   "cell_type": "markdown",
   "metadata": {
    "slideshow": {
     "slide_type": "slide"
    }
   },
   "source": [
    "# Class 5 overview\n",
    "\n",
    "Topic: git / code versioning\n",
    "\n",
    "- Why do we need a versioning tool?\n",
    "- Main features most versioning tools provide\n",
    "- Why Git in particular\n",
    "- Installing and initial config\n",
    "- Creating a repo (init)\n",
    "    - Repo vs working copy.\n",
    "- Adding versions (commit)\n",
    "    - Git commit, git status, git diff\n",
    "- Reeviewing older versions (log, show, gitg, blame)\n",
    "- Branches and merge\n",
    "    - Conflicts\n",
    "    - Tags\n",
    "- Working with other repos (clone, pull, push)\n",
    "- Having a central repo, Gitlab and alternatives\n",
    "- Common workflows\n",
    "- GitHub, impact on open source\n",
    "    - Fork, pull requests"
   ]
  },
  {
   "cell_type": "markdown",
   "metadata": {
    "slideshow": {
     "slide_type": "subslide"
    }
   },
   "source": [
    "## Why using versioning tools?\n",
    "\n",
    "\"A time machine + parallel universes\"\n",
    "\n",
    "A system that allows you to answer these kind of questions:\n",
    "\n",
    "- Who did this? Why? When? What other stuff did they modify at the same time?\n",
    "- What changed between today and the previous week? And between version 1.0.3 and 1.2.4?\n",
    "- When does this feature started failing? Which change broke it?\n",
    "- What changes did this feature introduce?\n",
    "\n",
    "And also allows for these things to happen:\n",
    "\n",
    "- **Several people** working on the same project (even files!) without losing code or manually merging it\n",
    "- Several **parallel versions**, experiments, features in progress, with ability to track, compare and merge them\n"
   ]
  },
  {
   "cell_type": "markdown",
   "metadata": {
    "slideshow": {
     "slide_type": "subslide"
    }
   },
   "source": [
    "## Warning\n",
    "\n",
    "Versioning tools, and git specially, are **scary** at first sight. It will look complicated.\n",
    "\n",
    "But believe me, it gets simple with practice, almost like riding a bike.\n",
    "\n",
    "And it **is super useful**. Once you start, you can't go back to non-versioning.\n",
    "\n",
    "Today is a must have. Not using versioning is like a big company not using any form of organized accounting system or books."
   ]
  },
  {
   "cell_type": "markdown",
   "metadata": {
    "slideshow": {
     "slide_type": "subslide"
    }
   },
   "source": [
    "## How? Main features of most VSs\n",
    "\n",
    "- Some way of taking **\"snapshots\"** of our code (commits)\n",
    "- Some way of having a **\"history\"** of connected snapshots\n",
    "- Some way of having **parallel** histories\n",
    "- Some way of **merging** parallel histories\n",
    "- Some way of **sharing** histories between computers"
   ]
  },
  {
   "cell_type": "markdown",
   "metadata": {
    "slideshow": {
     "slide_type": "subslide"
    }
   },
   "source": [
    "![](./versioning_general_view.svg)"
   ]
  },
  {
   "cell_type": "markdown",
   "metadata": {
    "slideshow": {
     "slide_type": "subslide"
    }
   },
   "source": [
    "## Why Git in particular\n",
    "\n",
    "- It's super **widely used**, the most common tool. Lots of info and **integration** with other tools (editors, shells, continuous integration, etc).\n",
    "- It's **distributed** (some others too)\n",
    "    - No central repo required, but it's still usually done\n",
    "    - No connection with a server required to work, connect only to share commits (faster, remote, etc)\n",
    "    - Every repo is a full repo, one dies (even the \"server\"), nothing is lost\n",
    "- It's great at **merging**, better than most"
   ]
  },
  {
   "cell_type": "markdown",
   "metadata": {
    "slideshow": {
     "slide_type": "subslide"
    }
   },
   "source": [
    "## Installing and initial config\n",
    "\n",
    "1. Linux installation is super simple. Windows not so much, but easy enough. Here we are installing not just git, but also gitg, which is useful.\n",
    "\n",
    "`sudo apt install git gitg`\n",
    "\n",
    "2. Configure your user\n",
    "\n",
    "`git config --global user.email \"fisadev@gmail.com\"`\n",
    "\n",
    "`git config --global user.name \"Juan Pedro Fisanotti\"`\n",
    "\n",
    "\n",
    "This is only done one time, when you install it. You can change it later, if you need to."
   ]
  },
  {
   "cell_type": "markdown",
   "metadata": {
    "slideshow": {
     "slide_type": "subslide"
    }
   },
   "source": [
    "## Creating an empty repo\n",
    "\n",
    "This is rarely done by hand, only to create a new repo from scratch in your machine (other options later on).\n",
    "\n",
    "1. Go to the root folder of your project\n",
    "\n",
    "`cd /home/fisa/devel/my_super_project`\n",
    "\n",
    "2. Create your repo there\n",
    "\n",
    "`git init`\n",
    "\n",
    "This will create a `.git` hidden folder right there. **That folder** is your repo! (no servers running in the background, strange folders in weird places, etc. Just that folder)"
   ]
  },
  {
   "cell_type": "markdown",
   "metadata": {
    "slideshow": {
     "slide_type": "subslide"
    }
   },
   "source": [
    "## Repo vs working copy\n",
    "\n",
    "- **Working copy**: the normal code files in your project\n",
    "- **Repo**: the `.git` folder, which stores all the information of known versions"
   ]
  },
  {
   "cell_type": "markdown",
   "metadata": {
    "slideshow": {
     "slide_type": "subslide"
    }
   },
   "source": [
    "![](./repo_vs_working_copy.svg)"
   ]
  },
  {
   "cell_type": "markdown",
   "metadata": {
    "slideshow": {
     "slide_type": "subslide"
    }
   },
   "source": [
    "## Creating snapshots (commits)\n",
    "\n",
    "(Always working inside your project folder)\n",
    "\n",
    "1. Add the files you want to include in the new snapshot (code: yes, configs: yes, data: no, temp files: no, compiled files: no, etc)\n",
    "\n",
    "`git add run.py settings.py submodule_x/web.py submodule_x/utils.py`\n",
    "    \n",
    "2. Create the commit, describing the changes you are commiting\n",
    "\n",
    "`git commit -m \"Created the repo with the first working version of my project\"`"
   ]
  },
  {
   "cell_type": "markdown",
   "metadata": {
    "slideshow": {
     "slide_type": "subslide"
    }
   },
   "source": [
    "## Pending changes\n",
    "\n",
    "Now do some changes to the files, and create some new files too.\n",
    "\n",
    "You can check the status of your working copy with `git status`.\n",
    "\n",
    "It shows:\n",
    "\n",
    "- Files that have changes that aren't in the repo\n",
    "- New files that aren't in the repo\n",
    "- Files that are in the repo and no longer in the working copy\n",
    "\n",
    "And with `git diff`, you get a detail of the changes!"
   ]
  },
  {
   "cell_type": "markdown",
   "metadata": {
    "slideshow": {
     "slide_type": "subslide"
    }
   },
   "source": [
    "## More on commits\n",
    "\n",
    "You can keep adding and commiting files.\n",
    "\n",
    "Each commit has:\n",
    "\n",
    "- a **hash** id\n",
    "- the message\n",
    "- the author (from config)\n",
    "- the date it was created\n",
    "- the files at this version (the \"snapshot\" of your code)\n",
    "- a reference to its parent commit (previous version from which it was done)\n",
    "- and some extra metadata\n"
   ]
  },
  {
   "cell_type": "markdown",
   "metadata": {
    "slideshow": {
     "slide_type": "subslide"
    }
   },
   "source": [
    "## More on commits\n",
    "\n",
    "Some useful tips:\n",
    "\n",
    "- Commit often, don't do huge commits with lost of different things inside. Do small commits. That means more detailed history and messages :)\n",
    "- You must add the files you want to commit every time (you add them to the staging area. It's like adding them to a \"draft\" commit, before committing).\n",
    "- You can add just **some** files, no need to add everything\n",
    "- Write meaningful messages, this is **super** important so the history is actually useful.\n"
   ]
  },
  {
   "cell_type": "markdown",
   "metadata": {
    "slideshow": {
     "slide_type": "subslide"
    }
   },
   "source": [
    "![](./initial_commits.svg)"
   ]
  },
  {
   "cell_type": "markdown",
   "metadata": {
    "slideshow": {
     "slide_type": "subslide"
    }
   },
   "source": [
    "## Reviewing older versions\n",
    "\n",
    "To navigate and inspect older versions, you have three main tools:\n",
    "\n",
    "- `git log`: shows the list of commits, from newer to older (showing hash, message, and some basic data)\n",
    "- `git show HAS_OF_A_COMMIT`: shows the details of a specific commit (you can use the first 8 chars of the hash)\n",
    "- graphical tools, like `gitg`, to easily see everything together\n",
    "\n",
    "And to check for authors and versions of the lines of a file, you have one:\n",
    "\n",
    "- `git blame A_FILE`"
   ]
  },
  {
   "cell_type": "markdown",
   "metadata": {
    "slideshow": {
     "slide_type": "subslide"
    }
   },
   "source": [
    "## Branches and merge\n",
    "\n",
    "Up until now, there was a single main history, with it's last version. It has a name: `master`.\n",
    "\n",
    "Master is a **branch**.\n",
    "\n",
    "Branches are pointers to a specific commit, but a little more than that: git knows in which branch you are currently working in, and each time you create a commit, the **branch automatically moves** and points to that last commit you just created. Like this:"
   ]
  },
  {
   "cell_type": "markdown",
   "metadata": {
    "slideshow": {
     "slide_type": "subslide"
    }
   },
   "source": [
    "![](./single_branch_1.svg)"
   ]
  },
  {
   "cell_type": "markdown",
   "metadata": {
    "slideshow": {
     "slide_type": "subslide"
    }
   },
   "source": [
    "![](./single_branch_2.svg)"
   ]
  },
  {
   "cell_type": "markdown",
   "metadata": {
    "slideshow": {
     "slide_type": "subslide"
    }
   },
   "source": [
    "![](./single_branch_3.svg)"
   ]
  },
  {
   "cell_type": "markdown",
   "metadata": {
    "slideshow": {
     "slide_type": "subslide"
    }
   },
   "source": [
    "## Branches and merge\n",
    "\n",
    "But you can create as many branches as you want, and move to work in any of them (remember: you usually are \"working in\" a specific branch).\n",
    "\n",
    "Create and move to a new branch with this:\n",
    "\n",
    "`git checkout -b feature_x master`\n",
    "\n",
    "The first parameter (`feature_x`) is the name of the branch you want to create. The second (`master`) is the name of the branch from which your new branch will start.\n",
    "\n",
    "That checkout results in this:"
   ]
  },
  {
   "cell_type": "markdown",
   "metadata": {
    "slideshow": {
     "slide_type": "subslide"
    }
   },
   "source": [
    "![](./new_branch_1.svg)"
   ]
  },
  {
   "cell_type": "markdown",
   "metadata": {
    "slideshow": {
     "slide_type": "subslide"
    }
   },
   "source": [
    "## Branches and merge\n",
    "\n",
    "At this point, you are working on `feature_x`, it's the active branch.\n",
    "\n",
    "If you commit, it will move, but master won't!"
   ]
  },
  {
   "cell_type": "markdown",
   "metadata": {
    "slideshow": {
     "slide_type": "subslide"
    }
   },
   "source": [
    "![](./new_branch_2.svg)"
   ]
  },
  {
   "cell_type": "markdown",
   "metadata": {
    "slideshow": {
     "slide_type": "subslide"
    }
   },
   "source": [
    "## Branches and merge\n",
    "\n",
    "At this point, something worth noting: branches aren't like tree branches. A branch is just a pointer to a specific commit, not the entire \"branch\".\n",
    "\n",
    "Worst name ever."
   ]
  },
  {
   "cell_type": "markdown",
   "metadata": {
    "slideshow": {
     "slide_type": "subslide"
    }
   },
   "source": [
    "## Branches and merge\n",
    "\n",
    "And you can move between branches all you want, with `git checkout`, like this:\n",
    "\n",
    "`git checkout NAME_OF_THE_BRANCH`\n",
    "\n",
    "Each time you move from branch to branch, something important happens: your **working copy** is updated with the files at the last version of that branch!\n",
    "\n",
    "*Tip: if you have pending changes, sometimes it won't let you move until you commit them. It makes sense, and there are ways to jump over that, but the easiest one is to commit your changes.*"
   ]
  },
  {
   "cell_type": "markdown",
   "metadata": {
    "slideshow": {
     "slide_type": "fragment"
    }
   },
   "source": [
    "For example, lets do this:\n",
    "\n",
    "`git checkout master`\n",
    "\n",
    "And then do a couple of commits.\n",
    "\n",
    "This is now our history:"
   ]
  },
  {
   "cell_type": "markdown",
   "metadata": {
    "slideshow": {
     "slide_type": "subslide"
    }
   },
   "source": [
    "![](./new_branch_3.svg)"
   ]
  },
  {
   "cell_type": "markdown",
   "metadata": {
    "slideshow": {
     "slide_type": "subslide"
    }
   },
   "source": [
    "## Branches and merge\n",
    "\n",
    "Master is usually the \"official\" history, with stuff that is finished and works well.\n",
    "\n",
    "Why create alternative histories?\n",
    "\n",
    "- To avoid adding in master stuff that is broken, breaking the code for you or everyone else\n",
    "- To work on different features at the same time\n",
    "- To work in real stuff vs experiments that might get discarded\n",
    "- Different people working at the same time in different stuff (more on that later)\n",
    "- many more...\n",
    "\n",
    "Branches are **cheap**. Want to start working on something? do it in a branch. Works? Great! Merge it to master (more on that in a second). Doesn't work? Just leave it there, it's not part of the \"official\" version, and anyone can see it if they wan't to help/continue/etc."
   ]
  },
  {
   "cell_type": "markdown",
   "metadata": {
    "slideshow": {
     "slide_type": "subslide"
    }
   },
   "source": [
    "## Branches and merge\n",
    "\n",
    "Ok, we have finished feature_x, we want those changes in master. We **merge** them:\n",
    "\n",
    "1. Go to master\n",
    "\n",
    "`git checkout master`\n",
    "\n",
    "2. Merge the changes from feature_x:\n",
    "\n",
    "`git merge feature_x`\n",
    "\n",
    "Git will analyze master and feature_x, and port all the code changes that are in feature_x and aren't yet in master. This is powerfull magic. \n",
    "\n",
    "The resulting history will look like this:"
   ]
  },
  {
   "cell_type": "markdown",
   "metadata": {
    "slideshow": {
     "slide_type": "subslide"
    }
   },
   "source": [
    "![](./merge.svg)"
   ]
  },
  {
   "cell_type": "markdown",
   "metadata": {
    "slideshow": {
     "slide_type": "subslide"
    }
   },
   "source": [
    "## Branches and merge\n",
    "\n",
    "Master has now:\n",
    "\n",
    "- All the old stuff that was already in master\n",
    "- All the new stuff that was changed in feature_x\n",
    "\n",
    "It's super powerful! It even merges files which had changes in both branches, combining changes in the same final file.\n",
    "\n",
    "\n",
    "... if there weren't any **CONFLICTS**"
   ]
  },
  {
   "cell_type": "markdown",
   "metadata": {
    "slideshow": {
     "slide_type": "subslide"
    }
   },
   "source": [
    "## Conflicts\n",
    "\n",
    "\n",
    "Conflicts usually happen when two branches did changes to the same lines in the same files. Example:\n",
    "\n",
    "\"A commit in master, not present in feature_x, edited `x = y + 1` to `x = y + 2`\"\n",
    "\n",
    "\"A commit in feature_x, not present in master, edited `x = y + 1` to `x = y + 1 + z`\"\n",
    "\n",
    "Both changes are valid, but conflict with each other. Git can't guess the correct end result: so it asks us to do it.\n",
    "\n",
    "**Just changes to the same file WON'T conflict**. They must change the exact same line, in different ways."
   ]
  },
  {
   "cell_type": "markdown",
   "metadata": {
    "slideshow": {
     "slide_type": "subslide"
    }
   },
   "source": [
    "## Conflicts\n",
    "\n",
    "Conflict resolution is somewhat simple:\n",
    "\n",
    "2. Edit the file, leave it fixed, and save it:\n",
    "\n",
    "\n",
    "```\n",
    "    ...\n",
    "    x = y + 2 + z\n",
    "    ...\n",
    "```\n",
    "\n",
    "This is how we want the file to be after the merge."
   ]
  },
  {
   "cell_type": "markdown",
   "metadata": {
    "slideshow": {
     "slide_type": "subslide"
    }
   },
   "source": [
    "## Conflicts\n",
    "\n",
    "Conflict resolution is somewhat simple:\n",
    "\n",
    "3. Add the conflicted files, and commit:\n",
    "\n",
    "`git add file_with_conflicts_1.py file_with_conflicts_2.py  ...`\n",
    "\n",
    "`git commit -m \"Merge with conflicts solved\"`\n",
    "\n",
    "This will finally create the merge commit, with the solved conflicts as we wanted them."
   ]
  },
  {
   "cell_type": "markdown",
   "metadata": {
    "slideshow": {
     "slide_type": "subslide"
    }
   },
   "source": [
    "![](./merge.svg)"
   ]
  },
  {
   "cell_type": "markdown",
   "metadata": {
    "slideshow": {
     "slide_type": "subslide"
    }
   },
   "source": [
    "## Conflicts\n",
    "\n",
    "Avoiding conflicts:\n",
    "\n",
    "- Do small branches, merge as soon as possible. Remember: branches are cheap.\n",
    "- Don't spend weeks without merging and sharing changes with others.\n",
    "- They will still happen, but smaller conflicts are **way easier** to solve than 100s of lines of conflicts."
   ]
  },
  {
   "cell_type": "markdown",
   "metadata": {
    "slideshow": {
     "slide_type": "subslide"
    }
   },
   "source": [
    "## Conflicts\n",
    "\n",
    "Avoiding conflicts:\n",
    "\n",
    "- Do small branches, merge as soon as possible. Remember: branches are cheap.\n",
    "- Don't spend weeks without merging and sharing changes with others.\n",
    "- They will still happen, but smaller conflicts are **way easier** to solve than 100s of lines of conflicts."
   ]
  },
  {
   "cell_type": "markdown",
   "metadata": {
    "slideshow": {
     "slide_type": "subslide"
    }
   },
   "source": [
    "## Tags\n",
    "\n",
    "Now something easier for a break :)\n",
    "\n",
    "Tags are names for specific commits. Similar to branches, but they don't move at all.\n",
    "\n",
    "Think of them as \"human readable ids\".\n",
    "\n",
    "Usually used to tag releases (\"1.0\", \"1.1.3\", \"2.0beta\", ...)"
   ]
  },
  {
   "cell_type": "markdown",
   "metadata": {
    "slideshow": {
     "slide_type": "subslide"
    }
   },
   "source": [
    "## Tags\n",
    "\n",
    "Add a tag to the current commit like this:\n",
    "\n",
    "`git tag -a \"1.0.3\" -m \"Release 1.0.3, best version ever\"`\n",
    "\n",
    "You can also add a tag to a past commit:\n",
    "\n",
    "`git tag -a \"1.0.0\" HASH_OF_OLDER_COMMIT -m \"Release 1.0.0 (ups, forgot to tag it last month)\"`\n",
    "\n",
    "Tags are shown in `gitg` and `git log`, but you can also list them with `git tag -n9`. And of course they can be deleted.\n"
   ]
  },
  {
   "cell_type": "markdown",
   "metadata": {
    "slideshow": {
     "slide_type": "subslide"
    }
   },
   "source": [
    "## Tags\n",
    "\n",
    "And again, they don't move with commits. They will always point to the same commit."
   ]
  },
  {
   "cell_type": "markdown",
   "metadata": {
    "slideshow": {
     "slide_type": "subslide"
    }
   },
   "source": [
    "![](./tags.svg)"
   ]
  },
  {
   "cell_type": "markdown",
   "metadata": {
    "slideshow": {
     "slide_type": "subslide"
    }
   },
   "source": [
    "## Working with other people (remote repos)\n",
    "\n",
    "Up until now, all our commits and branches lived in our personal repo.\n",
    "\n",
    "How do we share them with others?\n",
    "\n",
    "Our repo can have a list of \"remotes\": repos in other computers, with which it can exchange commits and data.\n",
    "\n",
    "And there are two main actions you can do with them:\n",
    "\n",
    "- **Push** commits to them, that you have and they don't have\n",
    "- **Pull** commits from them, that they have and you don't\n",
    "\n",
    "There's also another action, that just fetches info from the remote repo, but doesn't apply any commits to our local branches: **Fetch**."
   ]
  },
  {
   "cell_type": "markdown",
   "metadata": {
    "slideshow": {
     "slide_type": "subslide"
    }
   },
   "source": [
    "![](./push_pull.svg)"
   ]
  },
  {
   "cell_type": "markdown",
   "metadata": {
    "slideshow": {
     "slide_type": "subslide"
    }
   },
   "source": [
    "## Working with other people (remote repos)\n",
    "\n",
    "You could add every other computer from the team as a remote, manually, with `git remote add NAME URL`, and coordinate push/pulls with them. But that's insane, not the usual way.\n",
    "\n",
    "The usual way: **a server has a \"central\" repo**, and everyone adds that repo as the remote called `origin`. Then everyone push and pulls from and to that repo.\n",
    "\n",
    "There's even a shortcut to start working from a remote repo: `git clone URL`, which creates a local repo, adds the remote repo as `origin`, and pulls all their commits."
   ]
  },
  {
   "cell_type": "markdown",
   "metadata": {
    "slideshow": {
     "slide_type": "subslide"
    }
   },
   "source": [
    "## Working with other people (remote repos)\n",
    "\n",
    "This way, when a new team member appears, they just do:\n",
    "\n",
    "`git clone URL_OF_SERVER`\n",
    "\n",
    "And done! They have a repo with all the commits to start working."
   ]
  },
  {
   "cell_type": "markdown",
   "metadata": {
    "slideshow": {
     "slide_type": "subslide"
    }
   },
   "source": [
    "## Working with other people (remote repos)\n",
    "\n",
    "And how do we push and pull: we push and pull from/to a local branch and from/to a branch in the remote repo.\n",
    "\n",
    "For example: we pull changes from origin's master branch, to our local master branch, so we get the latest stable changes.\n",
    "\n",
    "Or: we push changes from our local feature_x branch, to origin's feature_x remote branch, to share the progress of our feature with someone else.\n",
    "\n",
    "`git pull REMOTE_NAME BRANCH_NAME`\n",
    "\n",
    "`git push REMOTE_NAME BRANCH_NAME`\n",
    "\n",
    "And finally, we can fetch remote data without applying it to any local branch, with:\n",
    "\n",
    "`git fecth`\n",
    "\n",
    "This is usually done so our local git knows which branches and other stuff the remote has, and we didn't know yet."
   ]
  },
  {
   "cell_type": "markdown",
   "metadata": {
    "slideshow": {
     "slide_type": "subslide"
    }
   },
   "source": [
    "## Working with other people (remote repos)\n",
    "\n",
    "What if we want to push feature_x, but the server doesn't have a branch called feature_x? Git will create it in the remote repo automatically when we do `git push origin feature_x`.\n",
    "\n",
    "\n",
    "What if we want to have a branch feature_y that someone else pushed, but we don't have a local feature_y branch? Simple: update the remote data first (new command! `git fetch`), and then we checkout a branch with the same name. Git will know that it has to create a local branch that \"matches\" the remote branch:\n",
    "\n",
    "`git fetch`\n",
    "\n",
    "`git checkout feature_y`"
   ]
  },
  {
   "cell_type": "markdown",
   "metadata": {
    "slideshow": {
     "slide_type": "subslide"
    }
   },
   "source": [
    "## Working with other people (remote repos)\n",
    "\n",
    "Example:"
   ]
  },
  {
   "cell_type": "markdown",
   "metadata": {
    "slideshow": {
     "slide_type": "subslide"
    }
   },
   "source": [
    "![](./remote_1.svg)"
   ]
  },
  {
   "cell_type": "markdown",
   "metadata": {
    "slideshow": {
     "slide_type": "subslide"
    }
   },
   "source": [
    "![](./remote_2.svg)"
   ]
  },
  {
   "cell_type": "markdown",
   "metadata": {
    "slideshow": {
     "slide_type": "subslide"
    }
   },
   "source": [
    "![](./remote_3.svg)"
   ]
  },
  {
   "cell_type": "markdown",
   "metadata": {
    "slideshow": {
     "slide_type": "subslide"
    }
   },
   "source": [
    "![](./remote_4.svg)"
   ]
  },
  {
   "cell_type": "markdown",
   "metadata": {
    "slideshow": {
     "slide_type": "subslide"
    }
   },
   "source": [
    "![](./remote_5.svg)"
   ]
  },
  {
   "cell_type": "markdown",
   "metadata": {
    "slideshow": {
     "slide_type": "subslide"
    }
   },
   "source": [
    "![](./remote_6.svg)"
   ]
  },
  {
   "cell_type": "markdown",
   "metadata": {
    "slideshow": {
     "slide_type": "subslide"
    }
   },
   "source": [
    "![](./remote_7.svg)"
   ]
  },
  {
   "cell_type": "markdown",
   "metadata": {
    "slideshow": {
     "slide_type": "subslide"
    }
   },
   "source": [
    "![](./remote_8.svg)"
   ]
  },
  {
   "cell_type": "markdown",
   "metadata": {
    "slideshow": {
     "slide_type": "subslide"
    }
   },
   "source": [
    "![](./remote_9.svg)"
   ]
  },
  {
   "cell_type": "markdown",
   "metadata": {
    "slideshow": {
     "slide_type": "subslide"
    }
   },
   "source": [
    "## Working with other people (remote repos)\n",
    "\n",
    "Quite important tip there!: always do a `pull` before doing any changes to master, so you are sure you are working with the latest version of master."
   ]
  },
  {
   "cell_type": "markdown",
   "metadata": {
    "slideshow": {
     "slide_type": "subslide"
    }
   },
   "source": [
    "![](./remote_10.svg)"
   ]
  },
  {
   "cell_type": "markdown",
   "metadata": {
    "slideshow": {
     "slide_type": "subslide"
    }
   },
   "source": [
    "![](./remote_11.svg)"
   ]
  },
  {
   "cell_type": "markdown",
   "metadata": {
    "slideshow": {
     "slide_type": "subslide"
    }
   },
   "source": [
    "## Working with other people (remote repos)\n",
    "\n",
    "So, to summarize:\n",
    "\n",
    "**To start working on something new**:\n",
    "\n",
    "Create a branch from the latest version of master.\n",
    "\n",
    "`git checkout master`\n",
    "\n",
    "`git pull origin master`\n",
    "\n",
    "`git checkout -b my_feature master`"
   ]
  },
  {
   "cell_type": "markdown",
   "metadata": {
    "slideshow": {
     "slide_type": "subslide"
    }
   },
   "source": [
    "**To share your not-ready changes so others can help/check/etc**:\n",
    "\n",
    "Push your branch to the server.\n",
    "\n",
    "(be sure to be in your branch)\n",
    "\n",
    "`git push origin my_feature`"
   ]
  },
  {
   "cell_type": "markdown",
   "metadata": {
    "slideshow": {
     "slide_type": "subslide"
    }
   },
   "source": [
    "**To check a branch from someone else**:\n",
    "\n",
    "Fetch remote data, and checkout their branch in your repo.\n",
    "\n",
    "`git fetch`\n",
    "\n",
    "`git checkout their_feature`"
   ]
  },
  {
   "cell_type": "markdown",
   "metadata": {
    "slideshow": {
     "slide_type": "subslide"
    }
   },
   "source": [
    "**To get changes someone pushed to your branch**:\n",
    "\n",
    "Just pull from the remote.\n",
    "\n",
    "(be sure to be in your branch)\n",
    "\n",
    "`git pull origin my_feature`"
   ]
  },
  {
   "cell_type": "markdown",
   "metadata": {
    "slideshow": {
     "slide_type": "subslide"
    }
   },
   "source": [
    "**To finally merge your changes to master and immediatly share them to the remote master**:\n",
    "\n",
    "Go to master, update it (pull). Then merge your changes, then share them (push).\n",
    "\n",
    "`git checkout master`\n",
    "\n",
    "`git pull origin master`\n",
    "\n",
    "`git merge my_feature`\n",
    "\n",
    "(solve conflicts if any)\n",
    "\n",
    "`git push origin master`"
   ]
  },
  {
   "cell_type": "markdown",
   "metadata": {
    "slideshow": {
     "slide_type": "subslide"
    }
   },
   "source": [
    "## Having a central repo\n",
    "\n",
    "So, we need a central repo in a server. How do we do that?\n",
    "\n",
    "Currently, in my opinion, [GitLab](https://about.gitlab.com/) is by far the best option:\n",
    "\n",
    "- It's open source\n",
    "- It's easy and nice to use\n",
    "- Fairly easy to install and maintain (better if using docker)\n",
    "- Has all the important features and more (including great continuous integration\n",
    "\n",
    "They provide online hosting for repos, free for open source and paid for companies. But you can just download and install your own GitLab in your servers for free, without any link to their servers. They just provide options if you don't want to host it yourself."
   ]
  },
  {
   "cell_type": "markdown",
   "metadata": {
    "slideshow": {
     "slide_type": "subslide"
    }
   },
   "source": [
    "## Common workflows\n",
    "\n",
    "I showed you the most basic version, but there are others. And you can define your own, but I suggest sticking to the known solutions.\n",
    "\n",
    "The workflows mostly dictate what branch is used for what (example: master for stable versions) and how branches re created and merged (like using rebase, something we didn't see).\n",
    "\n",
    "\"Gitflow\" is a widely spread one. Complex, but quite useful."
   ]
  },
  {
   "cell_type": "markdown",
   "metadata": {
    "slideshow": {
     "slide_type": "subslide"
    }
   },
   "source": [
    "## GitHub, forks\n",
    "\n",
    "Finally: what is GitHub?\n",
    "\n",
    "\n",
    "\"Just\" a website that allows you to host your central repo there. Either free for public repos (usually open source software), or paying to have private repos.\n",
    "\n",
    "But the website isn't open source itself, and it does not provide a version that you can run in your servers. It's a service, you push your repo (code) there, but it's hosted in their servers.\n",
    "\n",
    "And it's also a **social network**. Most open source projects are there (millions!). Most developers know how to use it. Nowdays, a good GitHub account is even better than a CV*. It shows how you program, what tools you use and how, etc.\n",
    "\n",
    "(for those who are lucky to be able to contribute to open source with time of their own of at their work. That can be unfair to those who don't)"
   ]
  },
  {
   "cell_type": "markdown",
   "metadata": {
    "slideshow": {
     "slide_type": "subslide"
    }
   },
   "source": [
    "## GitHub, forks\n",
    "\n",
    "People fork a lot in GitHub... what's a Fork?\n",
    "\n",
    "A fork is just a copy of a repo, but owned by a different person. For example: Django is owned by the Django Software Foundation (their own accounts, etc). But I have my own \"fork\", my full copy of Django's repo, in which I can do changes without asking anyone.\n",
    "\n",
    "How does that help to contribute? Why isn't that caos?\n",
    "\n",
    "People will use the official repo. And people will do the changes they want to propose in their own forks. When they think their changes are ready, they create a \"Pull Request\": basically, a ticket that asks the official repo to pull some specific changes from the fork, into the official repo.\n",
    "\n",
    "If the official people accept the pull request, the changes are pulled into the official repo, for everyone to enjoy.\n",
    "\n",
    "If the official people don't want your changes, they simply reject the pull request. You can still use your own fork with the changes made, and even share with other people if they want them. They just won't be in the \"official\" version."
   ]
  },
  {
   "cell_type": "markdown",
   "metadata": {
    "slideshow": {
     "slide_type": "subslide"
    }
   },
   "source": [
    "## Slightly more advanced things to research:\n",
    "\n",
    "- `git log` has filters, sorting, etc\n",
    "- `git show` can also be used with tags, branches, and has expressions for stuff like \"show the current commit - 3\", etc\n",
    "- `git add -p` can add only parts of changed files\n",
    "- `git checkout` can be used to checkout any version (tag, hash, branch, etc)\n",
    "- `git stash` can be helpful to store changes that you don't want to commit right now\n",
    "- `git rebase` a very different way of doing merges\n",
    "- hooks: a way of automatically running code on each commit, push, pull, etc"
   ]
  }
 ],
 "metadata": {
  "celltoolbar": "Slideshow",
  "kernelspec": {
   "display_name": "Python 3",
   "language": "python",
   "name": "python3"
  },
  "language_info": {
   "codemirror_mode": {
    "name": "ipython",
    "version": 3
   },
   "file_extension": ".py",
   "mimetype": "text/x-python",
   "name": "python",
   "nbconvert_exporter": "python",
   "pygments_lexer": "ipython3",
   "version": "3.6.3"
  }
 },
 "nbformat": 4,
 "nbformat_minor": 2
}
