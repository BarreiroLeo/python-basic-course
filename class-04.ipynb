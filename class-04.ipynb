{
 "cells": [
  {
   "cell_type": "markdown",
   "metadata": {
    "slideshow": {
     "slide_type": "slide"
    }
   },
   "source": [
    "## Extra topics: Web\n",
    "\n",
    "\n",
    "fisa (@fisadev, fisadev@gmail.com)\n",
    "\n",
    "https://github.com/fisadev/python-basic-course"
   ]
  },
  {
   "cell_type": "markdown",
   "metadata": {
    "slideshow": {
     "slide_type": "slide"
    }
   },
   "source": [
    "# Class 4 overview\n",
    "\n",
    "Topic: web\n",
    "\n",
    "- The web vs the rest\n",
    "- HTTP, details on requests/responses\n",
    "- Body contents: HTML, CSS, JS, JSON, ...\n",
    "- Server side vs client side (rendering, apps, etc)?\n",
    "- Browser dev tools\n",
    "- Stateless, cookies\n",
    "- Web APIs, JSON\n",
    "- HTTPS\n",
    "- HTTP 2.0\n",
    "- Usual infrastructure\n",
    "- Example with a very simple microframework"
   ]
  },
  {
   "cell_type": "markdown",
   "metadata": {
    "slideshow": {
     "slide_type": "subslide"
    }
   },
   "source": [
    "## Te web vs the rest\n",
    "\n",
    "- Client + server\n",
    "- Request + response\n",
    "- No longer everything in the same process\n",
    "- Connection dies after each cycle, server can restart, multiple servers, etc. Forget about state\n",
    "- Mix of different languages: server logic, presentation logic, content, visual style\n",
    "- You cannot trust incomming requests anymore"
   ]
  },
  {
   "cell_type": "markdown",
   "metadata": {
    "slideshow": {
     "slide_type": "subslide"
    }
   },
   "source": [
    "![](./request_response.svg)\n"
   ]
  },
  {
   "cell_type": "markdown",
   "metadata": {
    "slideshow": {
     "slide_type": "subslide"
    }
   },
   "source": [
    "Stuff like this? forget about them:\n",
    "\n",
    "(pseudo code, just to get the idea)"
   ]
  },
  {
   "cell_type": "code",
   "execution_count": 4,
   "metadata": {
    "scrolled": false,
    "slideshow": {
     "slide_type": "fragment"
    }
   },
   "outputs": [],
   "source": [
    "class ClientEditorWindow:\n",
    "    def __init__(self):\n",
    "        self.add_button(some_position, some_text, color, alignment)\n",
    "    \n",
    "    def on_pick_client_click(self):\n",
    "        self.current_client = Clients.objects.get(id=client_id_picker.value)\n",
    "\n",
    "    def on_save_click(self):\n",
    "        if all_fields_filled:\n",
    "            self.current_client.name = textbox_name.text\n",
    "            self.current_client.birth = date_picker_birth.date\n",
    "            self.current_client.save()\n",
    "        else:\n",
    "            message(\"Missing fields!\")"
   ]
  },
  {
   "cell_type": "markdown",
   "metadata": {
    "slideshow": {
     "slide_type": "fragment"
    }
   },
   "source": [
    "- Accessing window widgets from the server logic? nope\n",
    "- Keeping state between actions? nope (or not that simple)\n",
    "- Retrying by just \"doing nothing\"? not actually\n",
    "- One single languate for logic+ui+style??? Pfffff..."
   ]
  },
  {
   "cell_type": "markdown",
   "metadata": {
    "scrolled": false,
    "slideshow": {
     "slide_type": "subslide"
    }
   },
   "source": [
    "Instead, your code will look more like this:\n",
    "\n",
    "(still pseudo code, just to get the idea)\n",
    "\n",
    "website.py:\n",
    "\n",
    "```python\n",
    "def view_client(request, client_id):\n",
    "    client = Client.objects.get(id=client_id)\n",
    "    return response(\"client_page.html\", replacing_with_data_from=client)\n",
    "\n",
    "def save_client(request, client_id, sent_data):\n",
    "    client = Client.objects.get(id=client_id)  # yes! again!\n",
    "    client.name = sent_data.name\n",
    "    client.birth = convert_to_date(sent_data.birth)\n",
    "    client.save()\n",
    "    return response(\"client_page.html\", replacing_with_data_from=client)  # again!\n",
    "```"
   ]
  },
  {
   "cell_type": "markdown",
   "metadata": {
    "scrolled": false,
    "slideshow": {
     "slide_type": "subslide"
    }
   },
   "source": [
    "plus the content to display! (still pseudo code)\n",
    "\n",
    "client_page.html:\n",
    "\n",
    "```html\n",
    "<h3>client details: {{name of client here}}</h3>\n",
    "<form action=\"url that points to save_client() code\">\n",
    "    <.... widgets to display name, birth, with the client data ...>\n",
    "    <... save button ...>\n",
    "</form>\n",
    "```"
   ]
  },
  {
   "cell_type": "markdown",
   "metadata": {
    "scrolled": false,
    "slideshow": {
     "slide_type": "subslide"
    }
   },
   "source": [
    "plus logic for the browser! (still pseudo code)\n",
    "\n",
    "client_page.js:\n",
    "\n",
    "```javascript\n",
    "function on_save_click() {\n",
    "    if (all data filled) {\n",
    "        send_request_with_form_data()\n",
    "    } else {\n",
    "        alert(\"missing fields!!\");\n",
    "    }\n",
    "}\n",
    "```"
   ]
  },
  {
   "cell_type": "markdown",
   "metadata": {
    "scrolled": false,
    "slideshow": {
     "slide_type": "subslide"
    }
   },
   "source": [
    "plus style! (still pseudo code)\n",
    "\n",
    "client_page.css:\n",
    "\n",
    "```css\n",
    "#client_form save_button {\n",
    "    color: #FF0000;\n",
    "    vertical-align: center;\n",
    "}\n",
    "```"
   ]
  },
  {
   "cell_type": "markdown",
   "metadata": {
    "slideshow": {
     "slide_type": "subslide"
    }
   },
   "source": [
    "## HTTP\n",
    "\n",
    "- It's the protocol used in the connections\n",
    "- Runs ussually over TCP/IP \n",
    "- Specifies the format for request and responses\n",
    "- Stateless: each request/response cycle is independent"
   ]
  },
  {
   "cell_type": "markdown",
   "metadata": {
    "slideshow": {
     "slide_type": "subslide"
    }
   },
   "source": [
    "## HTTP steps\n",
    "\n",
    "### If you are the client:\n",
    "\n",
    "1. Stablish a TCP/IP connection with a machine and a port\n",
    "2. Send text over the connection, in the format of a request\n",
    "3. Wait and read text over the connection, parse it with the response format\n",
    "4. Close the connection\n",
    "\n",
    "### If you are the server:\n",
    "\n",
    "1. Keep a program running, listening to a port in your machine (server)\n",
    "2. When someone connects through that port via TCP/IP, read text over the connection and parse it with the request format\n",
    "3. Do whatever you need to solve the request, then send text over the connection, in the format of a response\n",
    "4. Close the connection"
   ]
  },
  {
   "cell_type": "markdown",
   "metadata": {
    "slideshow": {
     "slide_type": "subslide"
    }
   },
   "source": [
    "## Sample request\n",
    "\n",
    "```\n",
    "GET /teoria/ HTTP/1.1\n",
    "Host:www.loiprocesos.com\n",
    "Accept-encoding:utf-8\n",
    "```"
   ]
  },
  {
   "cell_type": "markdown",
   "metadata": {
    "slideshow": {
     "slide_type": "fragment"
    }
   },
   "source": [
    "Parts:\n",
    "\n",
    "- **Request line**: Verb (GET/POST/DELETE/...), resource (url) of the thing you want to interact with, and protocol version (in this case: \"get the /teoria/ page using http v1.1\")\n",
    "- **Headers**: metadata about what you want and how you want it, who you are, etc.\n",
    "- **Body**: stuff being sent, like files, form data, etc\n",
    "\n",
    "Note: the url **doesn't** include the server or the port. That's **not** part of HTTP. The Host header is to inform the server which site you want to use, in case there are many listening to the same port."
   ]
  },
  {
   "cell_type": "markdown",
   "metadata": {
    "slideshow": {
     "slide_type": "subslide"
    }
   },
   "source": [
    "## Sample response\n",
    "\n",
    "```\n",
    "HTTP/1.1 200 OK\n",
    "Server: gunicorn/19.9.0\n",
    "Date: Thu, 27 Dec 2018 04:12:50 GMT\n",
    "Content-Type: text/html; charset=utf-8\n",
    "\n",
    "27F6\n",
    "<html>\n",
    "    <h3>Procesos industriales: Teoría</h3>\n",
    "    ... the page ...\n",
    "</html>\n",
    "```"
   ]
  },
  {
   "cell_type": "markdown",
   "metadata": {
    "slideshow": {
     "slide_type": "fragment"
    }
   },
   "source": [
    "Parts:\n",
    "\n",
    "- **Response line**: http version plus \"type\" of result (code and description). 200=ok, 404=not found, 503=server error, etc.\n",
    "- Headers: metadata of what you are getting as a response (data type, encoding, date, etc)\n",
    "- Body: the actual stuff you requested (in this case, the web page)"
   ]
  },
  {
   "cell_type": "markdown",
   "metadata": {
    "slideshow": {
     "slide_type": "subslide"
    }
   },
   "source": [
    "## Body contents\n",
    "\n",
    "- Technically anything. Just bytes, whatever format you want\n",
    "- Usually in websites? HTML, javascript, CSS, images, videos, and any user downloadable file\n"
   ]
  },
  {
   "cell_type": "markdown",
   "metadata": {
    "slideshow": {
     "slide_type": "fragment"
    }
   },
   "source": [
    "All in the same response?\n",
    "\n",
    "**No**\n",
    "\n",
    "Websites usually return an HTML, which includes stuff that says \"here goes an image, which is at /another/url\". Then the browser does another request to get the image. And so on, for all the javascript, css, images, etc.\n",
    "\n",
    "Usually to see a webpage, the browser ends up doing a lot of requests."
   ]
  },
  {
   "cell_type": "markdown",
   "metadata": {
    "slideshow": {
     "slide_type": "subslide"
    }
   },
   "source": [
    "## HTML\n",
    "\n",
    "- Defines the contents to be shown\n",
    "- Usually generated on the server\n",
    "- But the javascript running in the browser can generate HTML on the fly too (modifying the page)\n",
    "- It's a subtype of XML, though not quite strict\n",
    "- Sadly, not quite strict\n"
   ]
  },
  {
   "cell_type": "markdown",
   "metadata": {
    "slideshow": {
     "slide_type": "subslide"
    }
   },
   "source": [
    "```HTML\n",
    "<html>\n",
    "    <head>\n",
    "        <title>Client: Fisa</title>\n",
    "        <link type=\"text/css\" rel=\"stylesheet\" href=\"/static/css/client_details.css\"/>          \n",
    "        <script src=\"/static/vendor/js/client_details.js\"></script>\n",
    "    </head>\n",
    "    \n",
    "    <body>\n",
    "        <h3>Client: Fisa</h3>\n",
    "        <img src=\"/images/clients/fisa.jpg\" />\n",
    "        \n",
    "        <form method=\"POST\">\n",
    "            <p>Name: <input class=\"client_form\" maxlength=\"254\" name=\"client_name\" type=\"text\" /></p>\n",
    "            <p>Birth: <input class=\"client_form\" name=\"client_birth\" type=\"datetime\" /></p>\n",
    "            <button id=\"save_button\" type=\"submit\">Save!</button>                                    \n",
    "        </form>        \n",
    "        \n",
    "    </body>\n",
    "</html>\n",
    "```"
   ]
  },
  {
   "cell_type": "markdown",
   "metadata": {
    "slideshow": {
     "slide_type": "fragment"
    }
   },
   "source": [
    "- `<head>` includes headers, metadata about the page and extra files required (javascript, css)\n",
    "- `<body>` is the actual page the user sees. Visible tags include titles, paragraphs, images, forms, inputs, buttons, and much more.\n",
    "- tags can define ids (should be unique!!!) and classes (to be shared)\n",
    "\n",
    "Does not say **how** it's shown. Style is for css."
   ]
  },
  {
   "cell_type": "markdown",
   "metadata": {
    "slideshow": {
     "slide_type": "subslide"
    }
   },
   "source": [
    "## CSS\n",
    "\n",
    "- Defines the looks of the visual stuff defined in the HTML\n",
    "- Uses selectors to identify stuff\n",
    "- Has strange logic in many areas, css isn't easy to master"
   ]
  },
  {
   "cell_type": "markdown",
   "metadata": {
    "slideshow": {
     "slide_type": "subslide"
    }
   },
   "source": [
    "```css\n",
    "/* any h3 titles, and any inputs inside p inside forms: */\n",
    "h3, form p input {\n",
    "    font-size: 12px;\n",
    "    color: blue;\n",
    "}\n",
    "\n",
    "/* any input with class=\"client_form\": */\n",
    "input.client_form {\n",
    "    text-align: center;\n",
    "}\n",
    "\n",
    "/* that specific thing with id=\"save_button\":*/\n",
    "#save_button {\n",
    "    margin: 100px;\n",
    "}\n",
    "\n",
    "```"
   ]
  },
  {
   "cell_type": "markdown",
   "metadata": {
    "slideshow": {
     "slide_type": "subslide"
    }
   },
   "source": [
    "## Javascript\n",
    "\n",
    "- Executes logic **in the browser**\n",
    "- Can interact with the HTML and CSS, and modify it on the fly!\n",
    "- Can do requests in background, to get or send data without the webpage refreshing"
   ]
  },
  {
   "cell_type": "markdown",
   "metadata": {
    "slideshow": {
     "slide_type": "subslide"
    }
   },
   "source": [
    "```javascript\n",
    "// this is super pseudo code, but with valid syntax\n",
    "\n",
    "function emails_data_is_ready(data) {\n",
    "    var emails_list = get_html_part(\"#emails_list\");\n",
    "    \n",
    "    emails_list.html = \"\";\n",
    "    for (email in data.emails) {\n",
    "        emails_list.html.append(\"<p>\" + email.title + \"</p>\");\n",
    "    }\n",
    "}\n",
    "\n",
    "function refresh_emails_list() {\n",
    "    do_a_request(\"/get_emails_list/\").when_ready_call(emails_data_is_ready);    \n",
    "}\n",
    "\n",
    "setInterval(refresh_emails_list, 5000);\n",
    "\n",
    "```"
   ]
  },
  {
   "cell_type": "markdown",
   "metadata": {
    "slideshow": {
     "slide_type": "subslide"
    }
   },
   "source": [
    "- Javascript is quite inconsistent (WAT examples)\n",
    "- Weakly typed, and always tries to guess and give you something if you do anything wrong (errors pass silently!!)\n",
    "- But it's the only thing to program in the browser!\n",
    "- Luckily, improving (even copying stuff from python)\n",
    "- Lots of new frameworks, every week or so\n",
    "- Some people are even using it in the server side"
   ]
  },
  {
   "cell_type": "markdown",
   "metadata": {
    "slideshow": {
     "slide_type": "subslide"
    }
   },
   "source": [
    "## Client side vs server side\n",
    "\n",
    "There's a lot of stuff that can go both in one side or the other. Do I get emails as data and crete HTML on the fly? or do I create the emails list HTML on the server and just refresh the page? Depends on a lot of factors:\n",
    "\n",
    "- Language expertise. Do you have frontend developers?\n",
    "- Are you doing simple-ish more or less static pages? or a complex web app with a lot of interactivity? (news.site.com vs gmail.com)\n",
    "- ...\n",
    "\n",
    "Sometimes, even repeated in both places (like validating input data. Remember: you can't trust the requests)."
   ]
  },
  {
   "cell_type": "markdown",
   "metadata": {
    "slideshow": {
     "slide_type": "subslide"
    }
   },
   "source": [
    "## Browser dev tools\n",
    "\n",
    "(F12 in Chrome)\n",
    "\n",
    "- Inspect the HTML, CSS, etc\n",
    "- Debug javascript interactively\n",
    "- Javascript console! try stuff\n",
    "- Edit the HTML, CSS to test stuff\n",
    "- Record and analyze requests done, times, and more\n",
    "- See logging (client side logging)"
   ]
  },
  {
   "cell_type": "markdown",
   "metadata": {
    "slideshow": {
     "slide_type": "subslide"
    }
   },
   "source": [
    "## Stateless problems, cookie solutions\n",
    "\n",
    "- Every request/response is independent\n",
    "- No state is stored in HTTP or the connections...\n",
    "- ... how do I know that this request to \"see email id=1000\", is the same user that did the request \"login as fisa\"?\n",
    "- Cookies: like the disco wristband"
   ]
  },
  {
   "cell_type": "markdown",
   "metadata": {
    "slideshow": {
     "slide_type": "subslide"
    }
   },
   "source": [
    "## Stateless problems, cookie solutions\n",
    "\n",
    "- Every request/response is independent\n",
    "- No state is stored in HTTP or the connections...\n",
    "- ... how do I know that this request to \"see email id=1000\", is the same user that did the request \"login as fisa\"?\n"
   ]
  },
  {
   "cell_type": "markdown",
   "metadata": {
    "slideshow": {
     "slide_type": "subslide"
    }
   },
   "source": [
    "## \"Solutions\" that don't work:\n",
    "\n",
    "- IP? No, they change, and multiple devices under the same public ip.\n",
    "- URLs rewriting? Problems with sharing, bookmarks, etc."
   ]
  },
  {
   "cell_type": "markdown",
   "metadata": {
    "slideshow": {
     "slide_type": "subslide"
    }
   },
   "source": [
    "## The usual solution: cookies\n",
    "\n",
    "\n",
    "1. You receive a normal request to visit some url from your site\n",
    "2. You create a \"session\" in your database, with an id\n",
    "3. You return the response, with an extra header that says \"hey, save this id in a little file. And every future request you do to me, include the value of that little file in the headers\".\n",
    "4. Every time the browser sends you a new request, the id will come in the headers. If it's in the database, you know which session it is from.\n",
    "\n",
    "In your db, you can store any useful info related to that session. For example, you can save \"he logged in with user=fisa\", and so you know that session is mine.\n",
    "\n",
    "This can be used mainly for login/logout features. But also for any other kind of session (like having a shopping cart even when not logged in, and remembering the stuff it had)."
   ]
  },
  {
   "cell_type": "markdown",
   "metadata": {
    "slideshow": {
     "slide_type": "subslide"
    }
   },
   "source": [
    "![](./cookies-0.svg)\n"
   ]
  },
  {
   "cell_type": "markdown",
   "metadata": {
    "slideshow": {
     "slide_type": "subslide"
    }
   },
   "source": [
    "![](./cookies-1.svg)\n"
   ]
  },
  {
   "cell_type": "markdown",
   "metadata": {
    "slideshow": {
     "slide_type": "subslide"
    }
   },
   "source": [
    "![](./cookies-2.svg)\n"
   ]
  },
  {
   "cell_type": "markdown",
   "metadata": {
    "slideshow": {
     "slide_type": "subslide"
    }
   },
   "source": [
    "![](./cookies-3.svg)\n"
   ]
  },
  {
   "cell_type": "markdown",
   "metadata": {
    "slideshow": {
     "slide_type": "subslide"
    }
   },
   "source": [
    "![](./cookies-4.svg)\n"
   ]
  },
  {
   "cell_type": "markdown",
   "metadata": {
    "slideshow": {
     "slide_type": "subslide"
    }
   },
   "source": [
    "## Issues with cookies\n",
    "\n",
    "\n",
    "- No portability of session\n",
    "- Privacy abuses (ads, facebook, etc, when integrating services from different servers)"
   ]
  },
  {
   "cell_type": "markdown",
   "metadata": {
    "slideshow": {
     "slide_type": "subslide"
    }
   },
   "source": [
    "## Web APIs\n",
    "\n",
    "- The broswer isn't the only client\n",
    "- If the browser is the client, still, HTML isn't the only answer\n",
    "\n",
    "Web APIs allow **structured data** to be get or sent via HTTP request/responses.\n",
    "\n",
    "Usually the data is in JSON format."
   ]
  },
  {
   "cell_type": "markdown",
   "metadata": {
    "slideshow": {
     "slide_type": "subslide"
    }
   },
   "source": [
    "Examples using [httpie](https://httpie.org/) in the shell (or just navigating the urls in the browser)\n",
    "\n",
    "```\n",
    "http get https://api.github.com/users/fisadev\n",
    "http get https://api.github.com/repos/django/django\n",
    "```"
   ]
  },
  {
   "cell_type": "markdown",
   "metadata": {
    "slideshow": {
     "slide_type": "fragment"
    }
   },
   "source": [
    "Or just using requests (`pip install requests`):"
   ]
  },
  {
   "cell_type": "code",
   "execution_count": 7,
   "metadata": {
    "slideshow": {
     "slide_type": "fragment"
    }
   },
   "outputs": [],
   "source": [
    "import requests\n",
    "\n",
    "response = requests.get(\"https://api.github.com/users/fisadev\")\n",
    "data = response.json()"
   ]
  },
  {
   "cell_type": "code",
   "execution_count": 11,
   "metadata": {
    "slideshow": {
     "slide_type": "fragment"
    }
   },
   "outputs": [
    {
     "data": {
      "text/plain": [
       "('Juan Pedro Fisanotti', 78)"
      ]
     },
     "execution_count": 11,
     "metadata": {},
     "output_type": "execute_result"
    }
   ],
   "source": [
    "data['name'], data['public_repos']"
   ]
  },
  {
   "cell_type": "markdown",
   "metadata": {
    "slideshow": {
     "slide_type": "subslide"
    }
   },
   "source": [
    "## Web APIs\n",
    "\n",
    "- You can use them to interact with other sites (get and post data)\n",
    "- You can use them to interact with your own site (from javascript in the browser, from a mobile app, etc)"
   ]
  },
  {
   "cell_type": "markdown",
   "metadata": {
    "slideshow": {
     "slide_type": "subslide"
    }
   },
   "source": [
    "## HTTPS\n",
    "\n",
    "- HTTP is plain text. Anyone in the middle can see the data you are posting and getting (emails, photos, passwords, etc)!!!!\n",
    "- HTTPS == HTTP, but over an encrypted connection. Problem solved :)\n",
    "- Needs signed certificates in the server. In the past, that was super expensive and problematic. But now, use [LetsEncrypt](https://letsencrypt.org/)! Free, open, and by far the best tools in the market."
   ]
  },
  {
   "cell_type": "markdown",
   "metadata": {
    "slideshow": {
     "slide_type": "subslide"
    }
   },
   "source": [
    "## HTTP 2.0\n",
    "\n",
    "- HTTP opens and closes the TCP connection for **every single** request/response.\n",
    "- That's slow! And even more if using HTTPS!\n",
    "- HTTP 2.0 == Open connection, do multiple request/response cycles, and **then** close the connection.\n",
    "- Faster\n",
    "- It does not solve the state issue. No \"long lived\" connections. Just to get multiple stuff at once.\n",
    "- State is still solved with cookies."
   ]
  },
  {
   "cell_type": "markdown",
   "metadata": {
    "slideshow": {
     "slide_type": "subslide"
    }
   },
   "source": [
    "## Usual infrastructure\n",
    "\n",
    "- Your program (website) knows how to generate responses from requests\n",
    "- But it does not know how to do HTTPS\n",
    "- Or how to enqueue requests if there are many\n",
    "- Or do network security\n",
    "- Or scaling\n",
    "- Etc...\n",
    "\n",
    "So, enter the \"public\" server (reverse proxy, front end server, etc):\n",
    "\n",
    "- Many instances of your program running, waiting for requests but **hidden** in your network, not public\n",
    "- One public server using Nginx or something like that, listens from requests, enqueues them, talks to your program instances to get the responses.\n",
    "- That server does the \"public talking\", https, network security, scaling, etc.\n",
    "- You can add/remove/restart instances of your program as you need. They are \"cattle\"."
   ]
  },
  {
   "cell_type": "markdown",
   "metadata": {
    "slideshow": {
     "slide_type": "subslide"
    }
   },
   "source": [
    "![](./usual-infra.svg)\n"
   ]
  },
  {
   "cell_type": "markdown",
   "metadata": {
    "slideshow": {
     "slide_type": "subslide"
    }
   },
   "source": [
    "## Very simple example using Flask\n",
    "\n",
    "To the editor!"
   ]
  }
 ],
 "metadata": {
  "celltoolbar": "Slideshow",
  "kernelspec": {
   "display_name": "Python 3",
   "language": "python",
   "name": "python3"
  },
  "language_info": {
   "codemirror_mode": {
    "name": "ipython",
    "version": 3
   },
   "file_extension": ".py",
   "mimetype": "text/x-python",
   "name": "python",
   "nbconvert_exporter": "python",
   "pygments_lexer": "ipython3",
   "version": "3.6.3"
  }
 },
 "nbformat": 4,
 "nbformat_minor": 2
}
